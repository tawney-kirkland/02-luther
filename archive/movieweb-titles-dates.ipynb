{
 "cells": [
  {
   "cell_type": "code",
   "execution_count": 1,
   "metadata": {},
   "outputs": [],
   "source": [
    "from bs4 import BeautifulSoup\n",
    "import requests\n",
    "import re\n",
    "import pandas as pd"
   ]
  },
  {
   "cell_type": "code",
   "execution_count": 2,
   "metadata": {},
   "outputs": [],
   "source": [
    "url = 'https://movieweb.com/movie/parasite/'\n",
    "\n",
    "user_agent = {'User-agent': 'Mozilla/5.0'}\n",
    "\n",
    "response  = requests.get(url, headers = user_agent)\n",
    "\n",
    "page = response.text\n",
    "\n",
    "soup = BeautifulSoup(page,\"lxml\")"
   ]
  },
  {
   "cell_type": "code",
   "execution_count": 5,
   "metadata": {},
   "outputs": [],
   "source": [
    "contents_div = soup.find('div',class_='news-items')"
   ]
  },
  {
   "cell_type": "code",
   "execution_count": 12,
   "metadata": {},
   "outputs": [],
   "source": [
    "title_list = []\n",
    "for title in contents_div.find_all('h3', class_='news-item-title'):\n",
    "    title_list.append(title.text.strip())"
   ]
  },
  {
   "cell_type": "code",
   "execution_count": 10,
   "metadata": {},
   "outputs": [],
   "source": [
    "date_list = []\n",
    "for date in contents_div.find_all('time'):\n",
    "    date_list.append(date.text)"
   ]
  },
  {
   "cell_type": "code",
   "execution_count": 14,
   "metadata": {
    "scrolled": true
   },
   "outputs": [],
   "source": [
    "title_date = (list(zip(title_list,date_list)))"
   ]
  },
  {
   "cell_type": "code",
   "execution_count": 15,
   "metadata": {},
   "outputs": [
    {
     "data": {
      "text/plain": [
       "[('Parasite Black and White Edition Trailer Shines New Light on Oscar Winner',\n",
       "  'Jul 10, 2020'),\n",
       " ('Parasite Gets Dubbed Into English by One Very Devoted Brother',\n",
       "  'Jul 3, 2020'),\n",
       " ('Parasite Sets Hulu Record During Big Streaming Debut', 'Apr 15, 2020'),\n",
       " (\"Hulu Zings Parasite Complainers Who Can't Handle Subtitles\", 'Apr 9, 2020'),\n",
       " ('Director Bong Joon-ho Talks Class in Parasite Blu-ray Feature Clip [Exclusive]',\n",
       "  'Feb 25, 2020'),\n",
       " ('Trump Mocked by Parasite Studio After He Trashes Best Picture Oscars Win',\n",
       "  'Feb 21, 2020'),\n",
       " ('Parasite Experiences Big Box Office Boost Following Historic Oscars Win',\n",
       "  'Feb 17, 2020'),\n",
       " ('Parasite Director Bong Joon-ho May Do a Korean Action Horror Movie Next',\n",
       "  'Feb 11, 2020'),\n",
       " (\"HBO's Parasite TV Show Narrows in on Mark Ruffalo\", 'Feb 10, 2020'),\n",
       " ('Parasite Director Bong Joon-ho Uses Oscars Speech to Thank Scorsese and Tarantino',\n",
       "  'Feb 10, 2020'),\n",
       " ('Parasite Wins Best Picture at the Oscars and Makes Hollywood History',\n",
       "  'Feb 10, 2020'),\n",
       " (\"Don't Expect Parasite Director Bong Joon-ho to Ever Direct a Marvel Movie\",\n",
       "  'Jan 17, 2020'),\n",
       " ('Parasite Director Offers Sage-Like Advice in Golden Globes Acceptance Speech',\n",
       "  'Jan 6, 2020'),\n",
       " (\"Parasite Trailer 2 Hails Bong Joon Ho's Latest as a Critical Masterpiece\",\n",
       "  'Oct 2, 2019'),\n",
       " ('Parasite Review: A Remarkable Tale for Modern Times [Fantastic Fest 2019]',\n",
       "  'Sep 27, 2019'),\n",
       " ('Fantastic Fest 2019 Wave Two Movies: Knives Out, Color Out of Space, Parasite and More',\n",
       "  'Aug 21, 2019'),\n",
       " ('Parasite Trailer: A Pitch Black Modern Fairytale from Bong Joon-Ho',\n",
       "  'Aug 14, 2019')]"
      ]
     },
     "execution_count": 15,
     "metadata": {},
     "output_type": "execute_result"
    }
   ],
   "source": [
    "title_date"
   ]
  },
  {
   "cell_type": "code",
   "execution_count": null,
   "metadata": {},
   "outputs": [],
   "source": []
  }
 ],
 "metadata": {
  "kernelspec": {
   "display_name": "Python 3",
   "language": "python",
   "name": "python3"
  },
  "language_info": {
   "codemirror_mode": {
    "name": "ipython",
    "version": 3
   },
   "file_extension": ".py",
   "mimetype": "text/x-python",
   "name": "python",
   "nbconvert_exporter": "python",
   "pygments_lexer": "ipython3",
   "version": "3.8.5"
  }
 },
 "nbformat": 4,
 "nbformat_minor": 4
}
