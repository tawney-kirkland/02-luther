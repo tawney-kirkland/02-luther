{
 "cells": [
  {
   "cell_type": "code",
   "execution_count": 1,
   "metadata": {},
   "outputs": [],
   "source": [
    "from bs4 import BeautifulSoup\n",
    "import requests\n",
    "import re"
   ]
  },
  {
   "cell_type": "code",
   "execution_count": 2,
   "metadata": {},
   "outputs": [],
   "source": [
    "url = 'https://www.boxofficemojo.com/title/tt2488496/rankings/?ref_=bo_tt_tab#tabs' \n",
    "\n",
    "response = requests.get(url)"
   ]
  },
  {
   "cell_type": "code",
   "execution_count": 3,
   "metadata": {},
   "outputs": [],
   "source": [
    "page = response.text"
   ]
  },
  {
   "cell_type": "code",
   "execution_count": 4,
   "metadata": {},
   "outputs": [],
   "source": [
    "soup = BeautifulSoup(page, 'lxml')"
   ]
  },
  {
   "cell_type": "code",
   "execution_count": 5,
   "metadata": {},
   "outputs": [],
   "source": [
    "title_string = soup.find('title').text\n",
    "title = title_string.split('-')[0].strip()"
   ]
  },
  {
   "cell_type": "code",
   "execution_count": 6,
   "metadata": {},
   "outputs": [],
   "source": [
    "domdist_regex = re.compile('Domestic Distributor')\n",
    "domdist_string = soup.find(text=domdist_regex).findNext().text\n",
    "domestic_dist = domdist_string.split('See')[0].strip()"
   ]
  },
  {
   "cell_type": "code",
   "execution_count": 7,
   "metadata": {},
   "outputs": [],
   "source": [
    "def get_movie_value(soup, field_name):\n",
    "    \n",
    "    '''Grab a value from Box Office Mojo HTML\n",
    "    \n",
    "    Takes a string attribute of a movie on the page and returns the string in\n",
    "    the next sibling object (the value for that attribute) or None if nothing is found.\n",
    "    '''\n",
    "    \n",
    "    obj = soup.find(text=re.compile(field_name))\n",
    "    \n",
    "    if not obj: \n",
    "        return None\n",
    "    \n",
    "    # this works for most of the values\n",
    "    next_element = obj.findNext()\n",
    "    \n",
    "    if next_element:\n",
    "        return next_element.text \n",
    "    else:\n",
    "        return None"
   ]
  },
  {
   "cell_type": "code",
   "execution_count": 8,
   "metadata": {},
   "outputs": [],
   "source": [
    "# Domestic distributor\n",
    "domestic_dist = get_movie_value(soup,'Domestic Distributor').split('See')[0].strip()\n",
    "\n",
    "# Budget (raw)\n",
    "raw_budget = get_movie_value(soup,'Budget')\n",
    "\n",
    "# Domestic opening revenue (raw)\n",
    "raw_domestic_opening = get_movie_value(soup,'Domestic Opening')\n",
    "\n",
    "#Earliest release date (raw)\n",
    "raw_earliest_release = get_movie_value(soup,'Earliest Release').split('\\n')[0].strip()\n",
    "\n",
    "#Rating\n",
    "rating = get_movie_value(soup,'MPAA')\n",
    "\n",
    "# Runtime (raw)\n",
    "raw_runtime = get_movie_value(soup,'Running Time')\n",
    "\n",
    "#Genres (raw\n",
    "raw_genres = get_movie_value(soup, 'Genres').split('\\n')"
   ]
  },
  {
   "cell_type": "code",
   "execution_count": 9,
   "metadata": {},
   "outputs": [],
   "source": [
    "import dateutil.parser\n",
    "\n",
    "def money_to_int(moneystring):\n",
    "    moneystring = moneystring.replace('$', '').replace(',', '')\n",
    "    return int(moneystring)\n",
    "\n",
    "def runtime_to_minutes(runtimestring):\n",
    "    runtime = runtimestring.split()\n",
    "    try:\n",
    "        minutes = int(runtime[0])*60 + int(runtime[2])\n",
    "        return minutes\n",
    "    except:\n",
    "        return None\n",
    "    \n",
    "def to_date(datestring):\n",
    "    date = dateutil.parser.parse(datestring)\n",
    "    return date\n",
    "    \n",
    "def clean_genres(genre_list):\n",
    "    genres = [item.strip () for item in genre_list if item.strip()]\n",
    "    return genres "
   ]
  },
  {
   "cell_type": "code",
   "execution_count": 10,
   "metadata": {},
   "outputs": [],
   "source": [
    "budget = money_to_int(raw_budget)\n",
    "\n",
    "domestic_opening = money_to_int(raw_domestic_opening)\n",
    "\n",
    "runtime = runtime_to_minutes(raw_runtime)\n",
    "\n",
    "genres = clean_genres(raw_genres)"
   ]
  },
  {
   "cell_type": "code",
   "execution_count": 11,
   "metadata": {},
   "outputs": [],
   "source": [
    "raw_sales_list = soup.find(class_='mojo-performance-summary-table').find_all('span', class_='money')[0:]\n",
    "\n",
    "def clean_sales(lst):\n",
    "    \n",
    "    '''Clean the summary domestic/international summary table\n",
    "    \n",
    "    Takes the raw list of money strings and converts each item to int\n",
    "    '''\n",
    "    \n",
    "    sale_list = [item.text for item in lst]\n",
    "    \n",
    "    sale_list = [money_to_int(item) for item in sale_list]\n",
    "   \n",
    "    return sale_list"
   ]
  },
  {
   "cell_type": "code",
   "execution_count": 12,
   "metadata": {},
   "outputs": [],
   "source": [
    "raw_sales_regions = soup.find(class_='mojo-performance-summary-table').find_all('span', class_='a-size-small')[0:]\n",
    "\n",
    "def clean_regions(lst):\n",
    "    \n",
    "    '''Clean the summary domestic/international summary table\n",
    "    \n",
    "    Takes raw list of region string, cleans, and puts back into list\n",
    "    '''\n",
    "    \n",
    "    region_list = [item.text for item in lst]\n",
    "    region_list = [item.strip() for item in region_list if item.split()]\n",
    "    region_list = [item.split('(')[0].strip() for item in region_list]\n",
    "    \n",
    "    return region_list"
   ]
  },
  {
   "cell_type": "code",
   "execution_count": 13,
   "metadata": {},
   "outputs": [],
   "source": [
    "regions_list = clean_regions(raw_sales_regions)\n",
    "sales_list = clean_sales(raw_sales_list)"
   ]
  },
  {
   "cell_type": "code",
   "execution_count": 14,
   "metadata": {},
   "outputs": [
    {
     "data": {
      "text/plain": [
       "[('Domestic', 936662225),\n",
       " ('International', 1131791908),\n",
       " ('Worldwide', 2068454133)]"
      ]
     },
     "execution_count": 14,
     "metadata": {},
     "output_type": "execute_result"
    }
   ],
   "source": [
    "# Zip region and associated sales per region - believe should solve for any missing regions\n",
    "summary_sales = zip(regions_list, sales_list)\n",
    "list(summary_sales)"
   ]
  },
  {
   "cell_type": "code",
   "execution_count": 19,
   "metadata": {},
   "outputs": [],
   "source": [
    "domsales_regex = re.compile('Domestic')\n",
    "domsales_string = soup.find(text=domdist_regex).findNext(_class='money')"
   ]
  },
  {
   "cell_type": "code",
   "execution_count": 20,
   "metadata": {},
   "outputs": [],
   "source": [
    "domsales_string"
   ]
  },
  {
   "cell_type": "code",
   "execution_count": null,
   "metadata": {},
   "outputs": [],
   "source": []
  }
 ],
 "metadata": {
  "kernelspec": {
   "display_name": "Python 3",
   "language": "python",
   "name": "python3"
  },
  "language_info": {
   "codemirror_mode": {
    "name": "ipython",
    "version": 3
   },
   "file_extension": ".py",
   "mimetype": "text/x-python",
   "name": "python",
   "nbconvert_exporter": "python",
   "pygments_lexer": "ipython3",
   "version": "3.8.5"
  }
 },
 "nbformat": 4,
 "nbformat_minor": 4
}
