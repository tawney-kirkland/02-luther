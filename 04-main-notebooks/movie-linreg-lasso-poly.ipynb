{
 "cells": [
  {
   "cell_type": "code",
   "execution_count": 1,
   "metadata": {},
   "outputs": [],
   "source": [
    "import pandas as pd\n",
    "import matplotlib.pyplot as plt\n",
    "import numpy as np\n",
    "from sklearn.model_selection import train_test_split\n",
    "from sklearn.linear_model import LinearRegression\n",
    "from sklearn.metrics import mean_squared_error\n",
    "from sklearn.preprocessing import StandardScaler, PolynomialFeatures, OneHotEncoder\n",
    "import seaborn as sns\n",
    "import datetime as dt\n",
    "from datetime import datetime\n",
    "import statsmodels.api as sm\n",
    "import statsmodels.formula.api as smf"
   ]
  },
  {
   "cell_type": "code",
   "execution_count": 2,
   "metadata": {},
   "outputs": [],
   "source": [
    "df = pd.read_csv('data/master_data_with_sequel_director.csv')"
   ]
  },
  {
   "cell_type": "code",
   "execution_count": 3,
   "metadata": {},
   "outputs": [],
   "source": [
    "df['release_date'] = pd.to_datetime(df['release_date'])\n",
    "df['year'] = pd.DatetimeIndex(df['release_date']).year"
   ]
  },
  {
   "cell_type": "code",
   "execution_count": 4,
   "metadata": {
    "scrolled": false
   },
   "outputs": [],
   "source": [
    "df['returnb'] = df['domestic_gross'] / df['budget']"
   ]
  },
  {
   "cell_type": "code",
   "execution_count": 5,
   "metadata": {},
   "outputs": [],
   "source": [
    "x = df[['budget','is_sequel','rating','top50_d','year','runtime_minutes','month','dd_top5','bankable_count','Action','Adventure','Animation','Comedy','Drama','Horror','Mystery','Romance']]\n",
    "\n",
    "\n",
    "y = df['domestic_gross']\n",
    "\n",
    "x_tr, x_test, y_tr, y_test = train_test_split(x, y,test_size=.25, random_state=10)\n",
    "#5"
   ]
  },
  {
   "cell_type": "code",
   "execution_count": 6,
   "metadata": {},
   "outputs": [],
   "source": [
    "x_train, x_val, y_train, y_val = train_test_split(x_tr, y_tr, test_size=.25, random_state=10)\n",
    "#10"
   ]
  },
  {
   "cell_type": "code",
   "execution_count": 7,
   "metadata": {},
   "outputs": [],
   "source": [
    "x_cont_train = x_train[['budget','is_sequel','top50_d','year','month','dd_top5','bankable_count','runtime_minutes','Action','Adventure','Animation','Comedy','Drama','Horror']]                        \n",
    "x_cont_val = x_val[['budget','is_sequel','top50_d','year','month','dd_top5','bankable_count','runtime_minutes','Action','Adventure','Animation','Comedy','Drama','Horror']]\n",
    "x_cont_test = x_test[['budget','is_sequel','top50_d','year','month','dd_top5','bankable_count','runtime_minutes','Action','Adventure','Animation','Comedy','Drama','Horror']]"
   ]
  },
  {
   "cell_type": "code",
   "execution_count": 24,
   "metadata": {
    "scrolled": true
   },
   "outputs": [
    {
     "name": "stderr",
     "output_type": "stream",
     "text": [
      "<ipython-input-24-d0eed0c2778d>:1: SettingWithCopyWarning: \n",
      "A value is trying to be set on a copy of a slice from a DataFrame.\n",
      "Try using .loc[row_indexer,col_indexer] = value instead\n",
      "\n",
      "See the caveats in the documentation: https://pandas.pydata.org/pandas-docs/stable/user_guide/indexing.html#returning-a-view-versus-a-copy\n",
      "  x_cont_train['BUD2'] = x_cont_train[['budget']]**2\n",
      "<ipython-input-24-d0eed0c2778d>:2: SettingWithCopyWarning: \n",
      "A value is trying to be set on a copy of a slice from a DataFrame.\n",
      "Try using .loc[row_indexer,col_indexer] = value instead\n",
      "\n",
      "See the caveats in the documentation: https://pandas.pydata.org/pandas-docs/stable/user_guide/indexing.html#returning-a-view-versus-a-copy\n",
      "  x_cont_val['BUD2'] = x_cont_val[['budget']]**2\n",
      "<ipython-input-24-d0eed0c2778d>:3: SettingWithCopyWarning: \n",
      "A value is trying to be set on a copy of a slice from a DataFrame.\n",
      "Try using .loc[row_indexer,col_indexer] = value instead\n",
      "\n",
      "See the caveats in the documentation: https://pandas.pydata.org/pandas-docs/stable/user_guide/indexing.html#returning-a-view-versus-a-copy\n",
      "  x_cont_test['BUD2'] = x_test[['budget']]**2\n"
     ]
    }
   ],
   "source": [
    "x_cont_train['BUD2'] = x_cont_train[['budget']]**2\n",
    "x_cont_val['BUD2'] = x_cont_val[['budget']]**2\n",
    "x_cont_test['BUD2'] = x_test[['budget']]**2"
   ]
  },
  {
   "cell_type": "code",
   "execution_count": 9,
   "metadata": {},
   "outputs": [],
   "source": [
    "x_cat_train = x_train[['rating']]\n",
    "x_cat_val = x_val[['rating']]\n",
    "x_cat_test = x_test[['rating']]"
   ]
  },
  {
   "cell_type": "code",
   "execution_count": 28,
   "metadata": {},
   "outputs": [],
   "source": [
    "# Dummify rating for train\n",
    "ohe = OneHotEncoder(drop='first', sparse=False)\n",
    "\n",
    "ohe.fit(x_cat_train)\n",
    "\n",
    "ohe_x_train = ohe.transform(x_cat_train)\n",
    "\n",
    "columns = ohe.get_feature_names(['rating'])\n",
    "\n",
    "ohe_x_train_df = pd.DataFrame(ohe_x_train, columns=columns, index=x_cat_train.index)"
   ]
  },
  {
   "cell_type": "code",
   "execution_count": 27,
   "metadata": {},
   "outputs": [],
   "source": [
    "# Dummify rating for val\n",
    "ohe_v = OneHotEncoder(drop='first', sparse=False)\n",
    "\n",
    "ohe_v.fit(x_cat_val)\n",
    "\n",
    "ohe_x_val = ohe_v.transform(x_cat_val)\n",
    "\n",
    "columns_v = ohe_v.get_feature_names(['rating'])\n",
    "\n",
    "ohe_x_val_df = pd.DataFrame(ohe_x_val, columns=columns_v, index=x_cat_val.index)"
   ]
  },
  {
   "cell_type": "code",
   "execution_count": 25,
   "metadata": {},
   "outputs": [],
   "source": [
    "# Dummify rating for test\n",
    "ohe_te = OneHotEncoder(drop='first', sparse=False)\n",
    "\n",
    "ohe_te.fit(x_cat_test)\n",
    "\n",
    "ohe_x_test = ohe_te.transform(x_cat_test)\n",
    "\n",
    "columns_te = ohe_te.get_feature_names(['rating'])\n",
    "\n",
    "ohe_x_test_df = pd.DataFrame(ohe_x_test, columns=columns_te, index=x_cat_test.index)"
   ]
  },
  {
   "cell_type": "code",
   "execution_count": 26,
   "metadata": {},
   "outputs": [],
   "source": [
    "# Combine cat and cont features in single dataframe\n",
    "combo_train_df = pd.concat([x_cont_train, ohe_x_train_df], axis=1)\n",
    "\n",
    "combo_val_df =  pd.concat([x_cont_val, ohe_x_val_df], axis=1)\n",
    "\n",
    "combo_test_df =  pd.concat([x_cont_test, ohe_x_test_df], axis=1)"
   ]
  },
  {
   "cell_type": "code",
   "execution_count": 30,
   "metadata": {},
   "outputs": [
    {
     "name": "stdout",
     "output_type": "stream",
     "text": [
      "R^2 for train with poly features:\n"
     ]
    },
    {
     "data": {
      "text/plain": [
       "0.47476619455241564"
      ]
     },
     "execution_count": 30,
     "metadata": {},
     "output_type": "execute_result"
    }
   ],
   "source": [
    "m = LinearRegression()\n",
    "p = PolynomialFeatures(degree=2, interaction_only=True)\n",
    "x_train_poly = p.fit_transform(combo_train_df)\n",
    "m.fit(x_train_poly,y_train)\n",
    "\n",
    "print('R^2 for train with poly features:')\n",
    "m.score(x_train_poly,y_train)"
   ]
  },
  {
   "cell_type": "code",
   "execution_count": 15,
   "metadata": {},
   "outputs": [
    {
     "data": {
      "text/plain": [
       "[('1', 1.7495309939150382e-07),\n",
       " ('budget', -3.5165164249591157e-06),\n",
       " ('BUD2', 5.029327376694558e-11),\n",
       " ('is_sequel', 2.1634789828161183e-13),\n",
       " ('top50_d', 1.4279564669027668e-12),\n",
       " ('year', 1.6857020945086775e-13),\n",
       " ('month', 8.083416319096496e-14),\n",
       " ('dd_top5', 4.042509963541738e-14),\n",
       " ('bankable_count', -3.0492988464131826e-14),\n",
       " ('runtime_minutes', 2.9266462415148912e-15),\n",
       " ('Action', 9.767031637585329e-14),\n",
       " ('Adventure', -5.3712217594416535e-14),\n",
       " ('Animation', 7.201216895824855e-14),\n",
       " ('Comedy', -7.416204650841351e-14),\n",
       " ('Drama', -3.681193393407111e-13),\n",
       " ('Horror', -1.7010415286154878e-07),\n",
       " ('R', 3.49961669066153e-12),\n",
       " ('G', -4.050973006760545e-17),\n",
       " ('PG', -8.328571013955366e-16),\n",
       " ('budget BUD2', 1.4264158673208171e-08),\n",
       " ('budget is_sequel', -4.838145148351218e-09),\n",
       " ('budget top50_d', 0.00024371294977900454),\n",
       " ('budget year', 1.0172761402958627e-06),\n",
       " ('budget month', 4.3320659043522024e-08),\n",
       " ('budget dd_top5', -4.7244117726674764e-08),\n",
       " ('budget bankable_count', 9.891949697197784e-06),\n",
       " ('budget runtime_minutes', 2.5434311776622345e-08),\n",
       " ('budget Action', 7.020203015040651e-08),\n",
       " ('budget Adventure', 6.35685258170295e-08),\n",
       " ('budget Animation', 9.372374058853884e-08),\n",
       " ('budget Comedy', -2.4806335208181268e-08),\n",
       " ('budget Drama', -3.2456376881550086e-09),\n",
       " ('budget Horror', -1.1517954016763976e-17),\n",
       " ('budget R', 7.901514921451101e-08),\n",
       " ('budget G', 2.4859491872286247e-08),\n",
       " ('budget PG', 4.450696376221334e-09),\n",
       " ('BUD2 is_sequel', -1.1188761306831721e-18),\n",
       " ('BUD2 top50_d', 6.050794795765101e-13),\n",
       " ('BUD2 year', 2.5471027311732166e-15),\n",
       " ('BUD2 month', -3.86822196933456e-18),\n",
       " ('BUD2 dd_top5', -4.0107167337789926e-16),\n",
       " ('BUD2 bankable_count', 2.6164535647553958e-14),\n",
       " ('BUD2 runtime_minutes', 1.8342397792667358e-17),\n",
       " ('BUD2 Action', 2.1624156218441987e-16),\n",
       " ('BUD2 Adventure', 2.2340967523156235e-16),\n",
       " ('BUD2 Animation', 2.558625344343566e-16),\n",
       " ('BUD2 Comedy', 9.796245959287289e-17),\n",
       " ('BUD2 Drama', -1.9185253146255553e-16),\n",
       " ('BUD2 Horror', 7.57280988869938e-10),\n",
       " ('BUD2 R', 4.156447234862857e-16),\n",
       " ('BUD2 G', 9.573859570473325e-17),\n",
       " ('BUD2 PG', -1.2339266120742334e-16),\n",
       " ('is_sequel top50_d', 1.4589089100106888e-13),\n",
       " ('is_sequel year', 1.5125330733349278e-15),\n",
       " ('is_sequel month', 1.9141108800138827e-16),\n",
       " ('is_sequel dd_top5', -1.1086176295457568e-16),\n",
       " ('is_sequel bankable_count', -8.05114807585207e-15),\n",
       " ('is_sequel runtime_minutes', -5.610028437998272e-17),\n",
       " ('is_sequel Action', 1.9037097930477387e-16),\n",
       " ('is_sequel Adventure', 2.607322287324471e-16),\n",
       " ('is_sequel Animation', 3.4016746811003745e-16),\n",
       " ('is_sequel Comedy', 3.122294655971287e-17),\n",
       " ('is_sequel Drama', -2.61028271694095e-16),\n",
       " ('is_sequel Horror', 1.934513511166673e-09),\n",
       " ('is_sequel R', 2.762438449859915e-16),\n",
       " ('is_sequel G', -2.077670887034389e-16),\n",
       " ('is_sequel PG', -4.265387102879652e-17),\n",
       " ('top50_d year', 4.93290889460532e-12),\n",
       " ('top50_d month', 9.449689239315972e-13),\n",
       " ('top50_d dd_top5', -1.5983570781160383e-13),\n",
       " ('top50_d bankable_count', -1.78680503626546e-11),\n",
       " ('top50_d runtime_minutes', 1.390479791213616e-12),\n",
       " ('top50_d Action', 2.7938532879725283e-12),\n",
       " ('top50_d Adventure', 1.9969815370862105e-12),\n",
       " ('top50_d Animation', 1.1073510959956408e-12),\n",
       " ('top50_d Comedy', -1.8676680543652938e-12),\n",
       " ('top50_d Drama', -1.8134562932875746e-12),\n",
       " ('top50_d Horror', 8.128228820034253e-11),\n",
       " ('top50_d R', 2.0775719121003836e-12),\n",
       " ('top50_d G', 1.9447047094560937e-13),\n",
       " ('top50_d PG', -2.2938599250219017e-12),\n",
       " ('year month', 4.0013732113040904e-15),\n",
       " ('year dd_top5', -8.678037055151332e-16),\n",
       " ('year bankable_count', 1.8214254743799276e-13),\n",
       " ('year runtime_minutes', 4.213121000961062e-15),\n",
       " ('year Action', 9.318347554137638e-15),\n",
       " ('year Adventure', 6.672045055856679e-15),\n",
       " ('year Animation', 5.567819115730965e-15),\n",
       " ('year Comedy', -6.0200423999075095e-15),\n",
       " ('year Drama', -5.778356038226181e-15),\n",
       " ('year Horror', 1.1923885498914487e-10),\n",
       " ('year R', 8.029465154050884e-15),\n",
       " ('year G', 3.0396544774715734e-15),\n",
       " ('year PG', -9.39115223099573e-15),\n",
       " ('month dd_top5', 6.780198281458937e-17),\n",
       " ('month bankable_count', 2.994219147186392e-14),\n",
       " ('month runtime_minutes', 3.3920141839809966e-16),\n",
       " ('month Action', 9.30835546070955e-16),\n",
       " ('month Adventure', 6.685185409324379e-16),\n",
       " ('month Animation', 4.749072918026115e-16),\n",
       " ('month Comedy', -2.568091495493958e-16),\n",
       " ('month Drama', -1.6799580778601874e-16),\n",
       " ('month Horror', 1.5035851416730003e-09),\n",
       " ('month R', 8.049763409505125e-16),\n",
       " ('month G', -6.511962738934673e-17),\n",
       " ('month PG', -3.827259382000202e-16),\n",
       " ('dd_top5 bankable_count', 6.431774780876853e-15),\n",
       " ('dd_top5 runtime_minutes', 7.798772142244166e-17),\n",
       " ('dd_top5 Action', -1.791143824789026e-16),\n",
       " ('dd_top5 Adventure', -1.0949796246324819e-16),\n",
       " ('dd_top5 Animation', -2.579268270287172e-16),\n",
       " ('dd_top5 Comedy', 3.048450341875908e-16),\n",
       " ('dd_top5 Drama', -9.355514761393904e-18),\n",
       " ('dd_top5 Horror', 2.4991775117226455e-10),\n",
       " ('dd_top5 R', -1.147554667711487e-16),\n",
       " ('dd_top5 G', -9.435887160912382e-17),\n",
       " ('dd_top5 PG', 2.420676384005429e-16),\n",
       " ('bankable_count runtime_minutes', 7.545956517536693e-14),\n",
       " ('bankable_count Action', 1.2774834640265618e-13),\n",
       " ('bankable_count Adventure', 9.084299640660947e-14),\n",
       " ('bankable_count Animation', 4.6789006811405696e-14),\n",
       " ('bankable_count Comedy', -1.0121888706334436e-13),\n",
       " ('bankable_count Drama', -9.128489926050642e-14),\n",
       " ('bankable_count Horror', 3.842363727260159e-11),\n",
       " ('bankable_count R', 9.978722638846385e-14),\n",
       " ('bankable_count G', -3.98834094332276e-15),\n",
       " ('bankable_count PG', -1.100384360222871e-13),\n",
       " ('runtime_minutes Action', 3.7251563601970595e-16),\n",
       " ('runtime_minutes Adventure', 4.6694020683644195e-17),\n",
       " ('runtime_minutes Animation', -1.4271250268532578e-16),\n",
       " ('runtime_minutes Comedy', 3.9736380501929987e-17),\n",
       " ('runtime_minutes Drama', 1.6584761143333483e-18),\n",
       " ('runtime_minutes Horror', 2.167792356080235e-09),\n",
       " ('runtime_minutes R', 1.4326952361503065e-16),\n",
       " ('runtime_minutes G', 3.6560111242116234e-16),\n",
       " ('runtime_minutes PG', 2.1026575963755156e-16),\n",
       " ('Action Adventure', 8.90574165417594e-16),\n",
       " ('Action Animation', 7.816283236648453e-16),\n",
       " ('Action Comedy', -5.799597455079538e-17),\n",
       " ('Action Drama', 6.412556934718917e-17),\n",
       " ('Action Horror', 2.897254187491816e-10),\n",
       " ('Action R', 1.1354199511920197e-15),\n",
       " ('Action G', 1.4011994192843614e-16),\n",
       " ('Action PG', 3.467520775561302e-17),\n",
       " ('Adventure Animation', 9.045655398804316e-16),\n",
       " ('Adventure Comedy', -1.0600841406202942e-16),\n",
       " ('Adventure Drama', 0.0),\n",
       " ('Adventure Horror', 2.2481266082473616e-09),\n",
       " ('Adventure R', 8.756521700648912e-16),\n",
       " ('Adventure G', 3.036391128771731e-17),\n",
       " ('Adventure PG', -5.733971777530325e-17),\n",
       " ('Animation Comedy', -4.159477067790956e-16),\n",
       " ('Animation Drama', 5.3259211641208377e-17),\n",
       " ('Animation Horror', 7.90065330550764e-10),\n",
       " ('Animation R', 8.621348916758706e-16),\n",
       " ('Animation G', 2.23622217758942e-16),\n",
       " ('Animation PG', -6.547144487028775e-16),\n",
       " ('Comedy Drama', -4.309837477192988e-17),\n",
       " ('Comedy Horror', -1.8369707163203683e-10),\n",
       " ('Comedy R', -2.7270818201579947e-16),\n",
       " ('Comedy G', -4.977219450725495e-16),\n",
       " ('Comedy PG', -1.6307302309109313e-16),\n",
       " ('Drama Horror', -5.395751858767675e-10),\n",
       " ('Drama R', 3.848588647627767e-17),\n",
       " ('Drama G', -2.448181093969194e-16),\n",
       " ('Drama PG', -6.935720505383997e-16),\n",
       " ('Horror R', -6.210248961205512e-10),\n",
       " ('Horror G', -2.287436389235474e-10),\n",
       " ('Horror PG', -2.5474317150990917e-09),\n",
       " ('R G', 0.0),\n",
       " ('R PG', 0.0),\n",
       " ('G PG', 0.0)]"
      ]
     },
     "execution_count": 15,
     "metadata": {},
     "output_type": "execute_result"
    }
   ],
   "source": [
    "list(zip(p.get_feature_names(['budget','BUD2','is_sequel','top50_d','year','month','dd_top5','bankable_count','runtime_minutes','Action','Adventure','Animation','Comedy','Drama','Horror','R','G','PG','PG-13']),m.coef_))"
   ]
  },
  {
   "cell_type": "code",
   "execution_count": 31,
   "metadata": {},
   "outputs": [
    {
     "name": "stdout",
     "output_type": "stream",
     "text": [
      "R^2 for val with poly features:\n"
     ]
    },
    {
     "data": {
      "text/plain": [
       "0.17701117299979596"
      ]
     },
     "execution_count": 31,
     "metadata": {},
     "output_type": "execute_result"
    }
   ],
   "source": [
    "print('R^2 for val with poly features:')\n",
    "x_val_poly = p.fit_transform(combo_val_df)\n",
    "m.score(x_val_poly,y_val)"
   ]
  },
  {
   "cell_type": "code",
   "execution_count": 32,
   "metadata": {
    "scrolled": true
   },
   "outputs": [
    {
     "name": "stdout",
     "output_type": "stream",
     "text": [
      "R^2 for test with poly features:\n"
     ]
    },
    {
     "data": {
      "text/plain": [
       "0.4006856161074469"
      ]
     },
     "execution_count": 32,
     "metadata": {},
     "output_type": "execute_result"
    }
   ],
   "source": [
    "print('R^2 for test with poly features:')\n",
    "x_test_poly = p.fit_transform(combo_test_df)\n",
    "m.score(x_test_poly,y_test)"
   ]
  },
  {
   "cell_type": "markdown",
   "metadata": {},
   "source": [
    "Wide variation in R^2 across samples. Data in val sample must be very different to train and test. Need to reshuffle and use Lasso to whiddle down variables as this is overfitting."
   ]
  },
  {
   "cell_type": "code",
   "execution_count": 33,
   "metadata": {},
   "outputs": [],
   "source": [
    "from sklearn.linear_model import LassoCV"
   ]
  },
  {
   "cell_type": "code",
   "execution_count": 34,
   "metadata": {},
   "outputs": [
    {
     "name": "stderr",
     "output_type": "stream",
     "text": [
      "/Users/tawneykirkland/opt/anaconda3/lib/python3.8/site-packages/sklearn/linear_model/_coordinate_descent.py:525: ConvergenceWarning: Objective did not converge. You might want to increase the number of iterations. Duality gap: 495631183671552.0, tolerance: 446361448024842.2\n",
      "  model = cd_fast.enet_coordinate_descent_gram(\n",
      "/Users/tawneykirkland/opt/anaconda3/lib/python3.8/site-packages/sklearn/linear_model/_coordinate_descent.py:525: ConvergenceWarning: Objective did not converge. You might want to increase the number of iterations. Duality gap: 604556533480960.0, tolerance: 446361448024842.2\n",
      "  model = cd_fast.enet_coordinate_descent_gram(\n",
      "/Users/tawneykirkland/opt/anaconda3/lib/python3.8/site-packages/sklearn/linear_model/_coordinate_descent.py:525: ConvergenceWarning: Objective did not converge. You might want to increase the number of iterations. Duality gap: 948051111483136.0, tolerance: 446361448024842.2\n",
      "  model = cd_fast.enet_coordinate_descent_gram(\n",
      "/Users/tawneykirkland/opt/anaconda3/lib/python3.8/site-packages/sklearn/linear_model/_coordinate_descent.py:525: ConvergenceWarning: Objective did not converge. You might want to increase the number of iterations. Duality gap: 598877330678784.0, tolerance: 446361448024842.2\n",
      "  model = cd_fast.enet_coordinate_descent_gram(\n",
      "/Users/tawneykirkland/opt/anaconda3/lib/python3.8/site-packages/sklearn/linear_model/_coordinate_descent.py:525: ConvergenceWarning: Objective did not converge. You might want to increase the number of iterations. Duality gap: 802138403007488.0, tolerance: 446361448024842.2\n",
      "  model = cd_fast.enet_coordinate_descent_gram(\n",
      "/Users/tawneykirkland/opt/anaconda3/lib/python3.8/site-packages/sklearn/linear_model/_coordinate_descent.py:525: ConvergenceWarning: Objective did not converge. You might want to increase the number of iterations. Duality gap: 584905209963520.0, tolerance: 446361448024842.2\n",
      "  model = cd_fast.enet_coordinate_descent_gram(\n",
      "/Users/tawneykirkland/opt/anaconda3/lib/python3.8/site-packages/sklearn/linear_model/_coordinate_descent.py:525: ConvergenceWarning: Objective did not converge. You might want to increase the number of iterations. Duality gap: 501410117737472.0, tolerance: 446361448024842.2\n",
      "  model = cd_fast.enet_coordinate_descent_gram(\n",
      "/Users/tawneykirkland/opt/anaconda3/lib/python3.8/site-packages/sklearn/linear_model/_coordinate_descent.py:525: ConvergenceWarning: Objective did not converge. You might want to increase the number of iterations. Duality gap: 1006289327165440.0, tolerance: 446361448024842.2\n",
      "  model = cd_fast.enet_coordinate_descent_gram(\n",
      "/Users/tawneykirkland/opt/anaconda3/lib/python3.8/site-packages/sklearn/linear_model/_coordinate_descent.py:525: ConvergenceWarning: Objective did not converge. You might want to increase the number of iterations. Duality gap: 2373792490050560.0, tolerance: 446361448024842.2\n",
      "  model = cd_fast.enet_coordinate_descent_gram(\n",
      "/Users/tawneykirkland/opt/anaconda3/lib/python3.8/site-packages/sklearn/linear_model/_coordinate_descent.py:525: ConvergenceWarning: Objective did not converge. You might want to increase the number of iterations. Duality gap: 1910958685296128.0, tolerance: 446361448024842.2\n",
      "  model = cd_fast.enet_coordinate_descent_gram(\n",
      "/Users/tawneykirkland/opt/anaconda3/lib/python3.8/site-packages/sklearn/linear_model/_coordinate_descent.py:525: ConvergenceWarning: Objective did not converge. You might want to increase the number of iterations. Duality gap: 3925672441294848.0, tolerance: 446361448024842.2\n",
      "  model = cd_fast.enet_coordinate_descent_gram(\n",
      "/Users/tawneykirkland/opt/anaconda3/lib/python3.8/site-packages/sklearn/linear_model/_coordinate_descent.py:525: ConvergenceWarning: Objective did not converge. You might want to increase the number of iterations. Duality gap: 4303352328146944.0, tolerance: 446361448024842.2\n",
      "  model = cd_fast.enet_coordinate_descent_gram(\n",
      "/Users/tawneykirkland/opt/anaconda3/lib/python3.8/site-packages/sklearn/linear_model/_coordinate_descent.py:525: ConvergenceWarning: Objective did not converge. You might want to increase the number of iterations. Duality gap: 2344504270967808.0, tolerance: 446361448024842.2\n",
      "  model = cd_fast.enet_coordinate_descent_gram(\n",
      "/Users/tawneykirkland/opt/anaconda3/lib/python3.8/site-packages/sklearn/linear_model/_coordinate_descent.py:525: ConvergenceWarning: Objective did not converge. You might want to increase the number of iterations. Duality gap: 1856132199687424.0, tolerance: 446361448024842.2\n",
      "  model = cd_fast.enet_coordinate_descent_gram(\n",
      "/Users/tawneykirkland/opt/anaconda3/lib/python3.8/site-packages/sklearn/linear_model/_coordinate_descent.py:525: ConvergenceWarning: Objective did not converge. You might want to increase the number of iterations. Duality gap: 1672177562719232.0, tolerance: 446361448024842.2\n",
      "  model = cd_fast.enet_coordinate_descent_gram(\n",
      "/Users/tawneykirkland/opt/anaconda3/lib/python3.8/site-packages/sklearn/linear_model/_coordinate_descent.py:525: ConvergenceWarning: Objective did not converge. You might want to increase the number of iterations. Duality gap: 1453339909190144.0, tolerance: 446361448024842.2\n",
      "  model = cd_fast.enet_coordinate_descent_gram(\n",
      "/Users/tawneykirkland/opt/anaconda3/lib/python3.8/site-packages/sklearn/linear_model/_coordinate_descent.py:525: ConvergenceWarning: Objective did not converge. You might want to increase the number of iterations. Duality gap: 1224155969146880.0, tolerance: 446361448024842.2\n",
      "  model = cd_fast.enet_coordinate_descent_gram(\n",
      "/Users/tawneykirkland/opt/anaconda3/lib/python3.8/site-packages/sklearn/linear_model/_coordinate_descent.py:525: ConvergenceWarning: Objective did not converge. You might want to increase the number of iterations. Duality gap: 3309964980132096.0, tolerance: 446361448024842.2\n",
      "  model = cd_fast.enet_coordinate_descent_gram(\n",
      "/Users/tawneykirkland/opt/anaconda3/lib/python3.8/site-packages/sklearn/linear_model/_coordinate_descent.py:525: ConvergenceWarning: Objective did not converge. You might want to increase the number of iterations. Duality gap: 3446968850891776.0, tolerance: 446361448024842.2\n",
      "  model = cd_fast.enet_coordinate_descent_gram(\n",
      "/Users/tawneykirkland/opt/anaconda3/lib/python3.8/site-packages/sklearn/linear_model/_coordinate_descent.py:525: ConvergenceWarning: Objective did not converge. You might want to increase the number of iterations. Duality gap: 2450814609838848.0, tolerance: 446361448024842.2\n",
      "  model = cd_fast.enet_coordinate_descent_gram(\n",
      "/Users/tawneykirkland/opt/anaconda3/lib/python3.8/site-packages/sklearn/linear_model/_coordinate_descent.py:525: ConvergenceWarning: Objective did not converge. You might want to increase the number of iterations. Duality gap: 3073904664413184.0, tolerance: 446361448024842.2\n",
      "  model = cd_fast.enet_coordinate_descent_gram(\n",
      "/Users/tawneykirkland/opt/anaconda3/lib/python3.8/site-packages/sklearn/linear_model/_coordinate_descent.py:525: ConvergenceWarning: Objective did not converge. You might want to increase the number of iterations. Duality gap: 3853274830657536.0, tolerance: 446361448024842.2\n",
      "  model = cd_fast.enet_coordinate_descent_gram(\n",
      "/Users/tawneykirkland/opt/anaconda3/lib/python3.8/site-packages/sklearn/linear_model/_coordinate_descent.py:525: ConvergenceWarning: Objective did not converge. You might want to increase the number of iterations. Duality gap: 3397856368010240.0, tolerance: 446361448024842.2\n",
      "  model = cd_fast.enet_coordinate_descent_gram(\n",
      "/Users/tawneykirkland/opt/anaconda3/lib/python3.8/site-packages/sklearn/linear_model/_coordinate_descent.py:525: ConvergenceWarning: Objective did not converge. You might want to increase the number of iterations. Duality gap: 2636250695321344.0, tolerance: 446361448024842.2\n",
      "  model = cd_fast.enet_coordinate_descent_gram(\n",
      "/Users/tawneykirkland/opt/anaconda3/lib/python3.8/site-packages/sklearn/linear_model/_coordinate_descent.py:525: ConvergenceWarning: Objective did not converge. You might want to increase the number of iterations. Duality gap: 450591624553984.0, tolerance: 429396733977507.4\n",
      "  model = cd_fast.enet_coordinate_descent_gram(\n",
      "/Users/tawneykirkland/opt/anaconda3/lib/python3.8/site-packages/sklearn/linear_model/_coordinate_descent.py:525: ConvergenceWarning: Objective did not converge. You might want to increase the number of iterations. Duality gap: 496981945765888.0, tolerance: 429396733977507.4\n",
      "  model = cd_fast.enet_coordinate_descent_gram(\n"
     ]
    },
    {
     "name": "stderr",
     "output_type": "stream",
     "text": [
      "/Users/tawneykirkland/opt/anaconda3/lib/python3.8/site-packages/sklearn/linear_model/_coordinate_descent.py:525: ConvergenceWarning: Objective did not converge. You might want to increase the number of iterations. Duality gap: 566531083976192.0, tolerance: 429396733977507.4\n",
      "  model = cd_fast.enet_coordinate_descent_gram(\n",
      "/Users/tawneykirkland/opt/anaconda3/lib/python3.8/site-packages/sklearn/linear_model/_coordinate_descent.py:525: ConvergenceWarning: Objective did not converge. You might want to increase the number of iterations. Duality gap: 879477705859072.0, tolerance: 429396733977507.4\n",
      "  model = cd_fast.enet_coordinate_descent_gram(\n",
      "/Users/tawneykirkland/opt/anaconda3/lib/python3.8/site-packages/sklearn/linear_model/_coordinate_descent.py:525: ConvergenceWarning: Objective did not converge. You might want to increase the number of iterations. Duality gap: 1517232313482752.0, tolerance: 429396733977507.4\n",
      "  model = cd_fast.enet_coordinate_descent_gram(\n",
      "/Users/tawneykirkland/opt/anaconda3/lib/python3.8/site-packages/sklearn/linear_model/_coordinate_descent.py:525: ConvergenceWarning: Objective did not converge. You might want to increase the number of iterations. Duality gap: 2018943642957824.0, tolerance: 429396733977507.4\n",
      "  model = cd_fast.enet_coordinate_descent_gram(\n",
      "/Users/tawneykirkland/opt/anaconda3/lib/python3.8/site-packages/sklearn/linear_model/_coordinate_descent.py:525: ConvergenceWarning: Objective did not converge. You might want to increase the number of iterations. Duality gap: 7874532252210176.0, tolerance: 429396733977507.4\n",
      "  model = cd_fast.enet_coordinate_descent_gram(\n",
      "/Users/tawneykirkland/opt/anaconda3/lib/python3.8/site-packages/sklearn/linear_model/_coordinate_descent.py:525: ConvergenceWarning: Objective did not converge. You might want to increase the number of iterations. Duality gap: 9702133528777216.0, tolerance: 429396733977507.4\n",
      "  model = cd_fast.enet_coordinate_descent_gram(\n",
      "/Users/tawneykirkland/opt/anaconda3/lib/python3.8/site-packages/sklearn/linear_model/_coordinate_descent.py:525: ConvergenceWarning: Objective did not converge. You might want to increase the number of iterations. Duality gap: 6064309481161216.0, tolerance: 429396733977507.4\n",
      "  model = cd_fast.enet_coordinate_descent_gram(\n",
      "/Users/tawneykirkland/opt/anaconda3/lib/python3.8/site-packages/sklearn/linear_model/_coordinate_descent.py:525: ConvergenceWarning: Objective did not converge. You might want to increase the number of iterations. Duality gap: 5726749712197888.0, tolerance: 429396733977507.4\n",
      "  model = cd_fast.enet_coordinate_descent_gram(\n",
      "/Users/tawneykirkland/opt/anaconda3/lib/python3.8/site-packages/sklearn/linear_model/_coordinate_descent.py:525: ConvergenceWarning: Objective did not converge. You might want to increase the number of iterations. Duality gap: 5350187064910848.0, tolerance: 429396733977507.4\n",
      "  model = cd_fast.enet_coordinate_descent_gram(\n",
      "/Users/tawneykirkland/opt/anaconda3/lib/python3.8/site-packages/sklearn/linear_model/_coordinate_descent.py:525: ConvergenceWarning: Objective did not converge. You might want to increase the number of iterations. Duality gap: 5507644544271616.0, tolerance: 429396733977507.4\n",
      "  model = cd_fast.enet_coordinate_descent_gram(\n",
      "/Users/tawneykirkland/opt/anaconda3/lib/python3.8/site-packages/sklearn/linear_model/_coordinate_descent.py:525: ConvergenceWarning: Objective did not converge. You might want to increase the number of iterations. Duality gap: 8810013039854592.0, tolerance: 429396733977507.4\n",
      "  model = cd_fast.enet_coordinate_descent_gram(\n",
      "/Users/tawneykirkland/opt/anaconda3/lib/python3.8/site-packages/sklearn/linear_model/_coordinate_descent.py:525: ConvergenceWarning: Objective did not converge. You might want to increase the number of iterations. Duality gap: 1.0675056826024448e+16, tolerance: 429396733977507.4\n",
      "  model = cd_fast.enet_coordinate_descent_gram(\n",
      "/Users/tawneykirkland/opt/anaconda3/lib/python3.8/site-packages/sklearn/linear_model/_coordinate_descent.py:525: ConvergenceWarning: Objective did not converge. You might want to increase the number of iterations. Duality gap: 1.0143513134167552e+16, tolerance: 429396733977507.4\n",
      "  model = cd_fast.enet_coordinate_descent_gram(\n",
      "/Users/tawneykirkland/opt/anaconda3/lib/python3.8/site-packages/sklearn/linear_model/_coordinate_descent.py:525: ConvergenceWarning: Objective did not converge. You might want to increase the number of iterations. Duality gap: 660336527883264.0, tolerance: 442204418692040.1\n",
      "  model = cd_fast.enet_coordinate_descent_gram(\n",
      "/Users/tawneykirkland/opt/anaconda3/lib/python3.8/site-packages/sklearn/linear_model/_coordinate_descent.py:525: ConvergenceWarning: Objective did not converge. You might want to increase the number of iterations. Duality gap: 512165236111872.0, tolerance: 442204418692040.1\n",
      "  model = cd_fast.enet_coordinate_descent_gram(\n",
      "/Users/tawneykirkland/opt/anaconda3/lib/python3.8/site-packages/sklearn/linear_model/_coordinate_descent.py:525: ConvergenceWarning: Objective did not converge. You might want to increase the number of iterations. Duality gap: 628422249032704.0, tolerance: 442204418692040.1\n",
      "  model = cd_fast.enet_coordinate_descent_gram(\n",
      "/Users/tawneykirkland/opt/anaconda3/lib/python3.8/site-packages/sklearn/linear_model/_coordinate_descent.py:525: ConvergenceWarning: Objective did not converge. You might want to increase the number of iterations. Duality gap: 761342582139904.0, tolerance: 442204418692040.1\n",
      "  model = cd_fast.enet_coordinate_descent_gram(\n",
      "/Users/tawneykirkland/opt/anaconda3/lib/python3.8/site-packages/sklearn/linear_model/_coordinate_descent.py:525: ConvergenceWarning: Objective did not converge. You might want to increase the number of iterations. Duality gap: 968759603585792.0, tolerance: 442204418692040.1\n",
      "  model = cd_fast.enet_coordinate_descent_gram(\n",
      "/Users/tawneykirkland/opt/anaconda3/lib/python3.8/site-packages/sklearn/linear_model/_coordinate_descent.py:525: ConvergenceWarning: Objective did not converge. You might want to increase the number of iterations. Duality gap: 1157663939832320.0, tolerance: 442204418692040.1\n",
      "  model = cd_fast.enet_coordinate_descent_gram(\n",
      "/Users/tawneykirkland/opt/anaconda3/lib/python3.8/site-packages/sklearn/linear_model/_coordinate_descent.py:525: ConvergenceWarning: Objective did not converge. You might want to increase the number of iterations. Duality gap: 1350393565732352.0, tolerance: 442204418692040.1\n",
      "  model = cd_fast.enet_coordinate_descent_gram(\n",
      "/Users/tawneykirkland/opt/anaconda3/lib/python3.8/site-packages/sklearn/linear_model/_coordinate_descent.py:525: ConvergenceWarning: Objective did not converge. You might want to increase the number of iterations. Duality gap: 1469937103455232.0, tolerance: 442204418692040.1\n",
      "  model = cd_fast.enet_coordinate_descent_gram(\n",
      "/Users/tawneykirkland/opt/anaconda3/lib/python3.8/site-packages/sklearn/linear_model/_coordinate_descent.py:525: ConvergenceWarning: Objective did not converge. You might want to increase the number of iterations. Duality gap: 1023798077946880.0, tolerance: 442204418692040.1\n",
      "  model = cd_fast.enet_coordinate_descent_gram(\n",
      "/Users/tawneykirkland/opt/anaconda3/lib/python3.8/site-packages/sklearn/linear_model/_coordinate_descent.py:525: ConvergenceWarning: Objective did not converge. You might want to increase the number of iterations. Duality gap: 1005967004950016.0, tolerance: 442204418692040.1\n",
      "  model = cd_fast.enet_coordinate_descent_gram(\n",
      "/Users/tawneykirkland/opt/anaconda3/lib/python3.8/site-packages/sklearn/linear_model/_coordinate_descent.py:525: ConvergenceWarning: Objective did not converge. You might want to increase the number of iterations. Duality gap: 779081381743616.0, tolerance: 442204418692040.1\n",
      "  model = cd_fast.enet_coordinate_descent_gram(\n",
      "/Users/tawneykirkland/opt/anaconda3/lib/python3.8/site-packages/sklearn/linear_model/_coordinate_descent.py:525: ConvergenceWarning: Objective did not converge. You might want to increase the number of iterations. Duality gap: 2690214834800896.0, tolerance: 442204418692040.1\n",
      "  model = cd_fast.enet_coordinate_descent_gram(\n",
      "/Users/tawneykirkland/opt/anaconda3/lib/python3.8/site-packages/sklearn/linear_model/_coordinate_descent.py:525: ConvergenceWarning: Objective did not converge. You might want to increase the number of iterations. Duality gap: 3759257978427392.0, tolerance: 442204418692040.1\n",
      "  model = cd_fast.enet_coordinate_descent_gram(\n",
      "/Users/tawneykirkland/opt/anaconda3/lib/python3.8/site-packages/sklearn/linear_model/_coordinate_descent.py:525: ConvergenceWarning: Objective did not converge. You might want to increase the number of iterations. Duality gap: 6026074994865664.0, tolerance: 442204418692040.1\n",
      "  model = cd_fast.enet_coordinate_descent_gram(\n",
      "/Users/tawneykirkland/opt/anaconda3/lib/python3.8/site-packages/sklearn/linear_model/_coordinate_descent.py:525: ConvergenceWarning: Objective did not converge. You might want to increase the number of iterations. Duality gap: 8645804873009408.0, tolerance: 442204418692040.1\n",
      "  model = cd_fast.enet_coordinate_descent_gram(\n"
     ]
    },
    {
     "name": "stderr",
     "output_type": "stream",
     "text": [
      "/Users/tawneykirkland/opt/anaconda3/lib/python3.8/site-packages/sklearn/linear_model/_coordinate_descent.py:525: ConvergenceWarning: Objective did not converge. You might want to increase the number of iterations. Duality gap: 2454294554447616.0, tolerance: 442204418692040.1\n",
      "  model = cd_fast.enet_coordinate_descent_gram(\n",
      "/Users/tawneykirkland/opt/anaconda3/lib/python3.8/site-packages/sklearn/linear_model/_coordinate_descent.py:525: ConvergenceWarning: Objective did not converge. You might want to increase the number of iterations. Duality gap: 1974579203208448.0, tolerance: 442204418692040.1\n",
      "  model = cd_fast.enet_coordinate_descent_gram(\n",
      "/Users/tawneykirkland/opt/anaconda3/lib/python3.8/site-packages/sklearn/linear_model/_coordinate_descent.py:525: ConvergenceWarning: Objective did not converge. You might want to increase the number of iterations. Duality gap: 6716708785106432.0, tolerance: 442204418692040.1\n",
      "  model = cd_fast.enet_coordinate_descent_gram(\n",
      "/Users/tawneykirkland/opt/anaconda3/lib/python3.8/site-packages/sklearn/linear_model/_coordinate_descent.py:525: ConvergenceWarning: Objective did not converge. You might want to increase the number of iterations. Duality gap: 1.4475800978779904e+16, tolerance: 442204418692040.1\n",
      "  model = cd_fast.enet_coordinate_descent_gram(\n",
      "/Users/tawneykirkland/opt/anaconda3/lib/python3.8/site-packages/sklearn/linear_model/_coordinate_descent.py:525: ConvergenceWarning: Objective did not converge. You might want to increase the number of iterations. Duality gap: 8688701814070784.0, tolerance: 442204418692040.1\n",
      "  model = cd_fast.enet_coordinate_descent_gram(\n",
      "/Users/tawneykirkland/opt/anaconda3/lib/python3.8/site-packages/sklearn/linear_model/_coordinate_descent.py:525: ConvergenceWarning: Objective did not converge. You might want to increase the number of iterations. Duality gap: 7699364383333376.0, tolerance: 442204418692040.1\n",
      "  model = cd_fast.enet_coordinate_descent_gram(\n",
      "/Users/tawneykirkland/opt/anaconda3/lib/python3.8/site-packages/sklearn/linear_model/_coordinate_descent.py:525: ConvergenceWarning: Objective did not converge. You might want to increase the number of iterations. Duality gap: 820022281432064.0, tolerance: 427767325435006.44\n",
      "  model = cd_fast.enet_coordinate_descent_gram(\n",
      "/Users/tawneykirkland/opt/anaconda3/lib/python3.8/site-packages/sklearn/linear_model/_coordinate_descent.py:525: ConvergenceWarning: Objective did not converge. You might want to increase the number of iterations. Duality gap: 917580306514944.0, tolerance: 427767325435006.44\n",
      "  model = cd_fast.enet_coordinate_descent_gram(\n",
      "/Users/tawneykirkland/opt/anaconda3/lib/python3.8/site-packages/sklearn/linear_model/_coordinate_descent.py:525: ConvergenceWarning: Objective did not converge. You might want to increase the number of iterations. Duality gap: 1302952295461888.0, tolerance: 427767325435006.44\n",
      "  model = cd_fast.enet_coordinate_descent_gram(\n",
      "/Users/tawneykirkland/opt/anaconda3/lib/python3.8/site-packages/sklearn/linear_model/_coordinate_descent.py:525: ConvergenceWarning: Objective did not converge. You might want to increase the number of iterations. Duality gap: 1143528688070144.0, tolerance: 427767325435006.44\n",
      "  model = cd_fast.enet_coordinate_descent_gram(\n",
      "/Users/tawneykirkland/opt/anaconda3/lib/python3.8/site-packages/sklearn/linear_model/_coordinate_descent.py:525: ConvergenceWarning: Objective did not converge. You might want to increase the number of iterations. Duality gap: 1586456280901120.0, tolerance: 427767325435006.44\n",
      "  model = cd_fast.enet_coordinate_descent_gram(\n",
      "/Users/tawneykirkland/opt/anaconda3/lib/python3.8/site-packages/sklearn/linear_model/_coordinate_descent.py:525: ConvergenceWarning: Objective did not converge. You might want to increase the number of iterations. Duality gap: 1294976015391744.0, tolerance: 427767325435006.44\n",
      "  model = cd_fast.enet_coordinate_descent_gram(\n",
      "/Users/tawneykirkland/opt/anaconda3/lib/python3.8/site-packages/sklearn/linear_model/_coordinate_descent.py:525: ConvergenceWarning: Objective did not converge. You might want to increase the number of iterations. Duality gap: 642657747961344.0, tolerance: 427767325435006.44\n",
      "  model = cd_fast.enet_coordinate_descent_gram(\n",
      "/Users/tawneykirkland/opt/anaconda3/lib/python3.8/site-packages/sklearn/linear_model/_coordinate_descent.py:525: ConvergenceWarning: Objective did not converge. You might want to increase the number of iterations. Duality gap: 867012315814400.0, tolerance: 427767325435006.44\n",
      "  model = cd_fast.enet_coordinate_descent_gram(\n",
      "/Users/tawneykirkland/opt/anaconda3/lib/python3.8/site-packages/sklearn/linear_model/_coordinate_descent.py:525: ConvergenceWarning: Objective did not converge. You might want to increase the number of iterations. Duality gap: 790975103495168.0, tolerance: 427767325435006.44\n",
      "  model = cd_fast.enet_coordinate_descent_gram(\n",
      "/Users/tawneykirkland/opt/anaconda3/lib/python3.8/site-packages/sklearn/linear_model/_coordinate_descent.py:525: ConvergenceWarning: Objective did not converge. You might want to increase the number of iterations. Duality gap: 1580180969119744.0, tolerance: 427767325435006.44\n",
      "  model = cd_fast.enet_coordinate_descent_gram(\n",
      "/Users/tawneykirkland/opt/anaconda3/lib/python3.8/site-packages/sklearn/linear_model/_coordinate_descent.py:525: ConvergenceWarning: Objective did not converge. You might want to increase the number of iterations. Duality gap: 4308901206061568.0, tolerance: 427767325435006.44\n",
      "  model = cd_fast.enet_coordinate_descent_gram(\n",
      "/Users/tawneykirkland/opt/anaconda3/lib/python3.8/site-packages/sklearn/linear_model/_coordinate_descent.py:525: ConvergenceWarning: Objective did not converge. You might want to increase the number of iterations. Duality gap: 5899906912678400.0, tolerance: 427767325435006.44\n",
      "  model = cd_fast.enet_coordinate_descent_gram(\n",
      "/Users/tawneykirkland/opt/anaconda3/lib/python3.8/site-packages/sklearn/linear_model/_coordinate_descent.py:525: ConvergenceWarning: Objective did not converge. You might want to increase the number of iterations. Duality gap: 443594384314880.0, tolerance: 414210185112783.5\n",
      "  model = cd_fast.enet_coordinate_descent_gram(\n",
      "/Users/tawneykirkland/opt/anaconda3/lib/python3.8/site-packages/sklearn/linear_model/_coordinate_descent.py:525: ConvergenceWarning: Objective did not converge. You might want to increase the number of iterations. Duality gap: 1598388180478976.0, tolerance: 414210185112783.5\n",
      "  model = cd_fast.enet_coordinate_descent_gram(\n",
      "/Users/tawneykirkland/opt/anaconda3/lib/python3.8/site-packages/sklearn/linear_model/_coordinate_descent.py:525: ConvergenceWarning: Objective did not converge. You might want to increase the number of iterations. Duality gap: 465930097249536.0, tolerance: 414210185112783.5\n",
      "  model = cd_fast.enet_coordinate_descent_gram(\n",
      "/Users/tawneykirkland/opt/anaconda3/lib/python3.8/site-packages/sklearn/linear_model/_coordinate_descent.py:525: ConvergenceWarning: Objective did not converge. You might want to increase the number of iterations. Duality gap: 2071238923864576.0, tolerance: 414210185112783.5\n",
      "  model = cd_fast.enet_coordinate_descent_gram(\n",
      "/Users/tawneykirkland/opt/anaconda3/lib/python3.8/site-packages/sklearn/linear_model/_coordinate_descent.py:525: ConvergenceWarning: Objective did not converge. You might want to increase the number of iterations. Duality gap: 3197597446413312.0, tolerance: 414210185112783.5\n",
      "  model = cd_fast.enet_coordinate_descent_gram(\n",
      "/Users/tawneykirkland/opt/anaconda3/lib/python3.8/site-packages/sklearn/linear_model/_coordinate_descent.py:525: ConvergenceWarning: Objective did not converge. You might want to increase the number of iterations. Duality gap: 5625001628756992.0, tolerance: 414210185112783.5\n",
      "  model = cd_fast.enet_coordinate_descent_gram(\n",
      "/Users/tawneykirkland/opt/anaconda3/lib/python3.8/site-packages/sklearn/linear_model/_coordinate_descent.py:525: ConvergenceWarning: Objective did not converge. You might want to increase the number of iterations. Duality gap: 4276878835769344.0, tolerance: 414210185112783.5\n",
      "  model = cd_fast.enet_coordinate_descent_gram(\n",
      "/Users/tawneykirkland/opt/anaconda3/lib/python3.8/site-packages/sklearn/linear_model/_coordinate_descent.py:525: ConvergenceWarning: Objective did not converge. You might want to increase the number of iterations. Duality gap: 3102086899043584.0, tolerance: 414210185112783.5\n",
      "  model = cd_fast.enet_coordinate_descent_gram(\n",
      "/Users/tawneykirkland/opt/anaconda3/lib/python3.8/site-packages/sklearn/linear_model/_coordinate_descent.py:525: ConvergenceWarning: Objective did not converge. You might want to increase the number of iterations. Duality gap: 4468655208945152.0, tolerance: 414210185112783.5\n",
      "  model = cd_fast.enet_coordinate_descent_gram(\n",
      "/Users/tawneykirkland/opt/anaconda3/lib/python3.8/site-packages/sklearn/linear_model/_coordinate_descent.py:525: ConvergenceWarning: Objective did not converge. You might want to increase the number of iterations. Duality gap: 5904762894281216.0, tolerance: 414210185112783.5\n",
      "  model = cd_fast.enet_coordinate_descent_gram(\n",
      "/Users/tawneykirkland/opt/anaconda3/lib/python3.8/site-packages/sklearn/linear_model/_coordinate_descent.py:525: ConvergenceWarning: Objective did not converge. You might want to increase the number of iterations. Duality gap: 6449240141701376.0, tolerance: 414210185112783.5\n",
      "  model = cd_fast.enet_coordinate_descent_gram(\n",
      "/Users/tawneykirkland/opt/anaconda3/lib/python3.8/site-packages/sklearn/linear_model/_coordinate_descent.py:525: ConvergenceWarning: Objective did not converge. You might want to increase the number of iterations. Duality gap: 6607704408149504.0, tolerance: 414210185112783.5\n",
      "  model = cd_fast.enet_coordinate_descent_gram(\n"
     ]
    },
    {
     "name": "stdout",
     "output_type": "stream",
     "text": [
      "R^2 for train with poly features (lasso):\n"
     ]
    },
    {
     "name": "stderr",
     "output_type": "stream",
     "text": [
      "/Users/tawneykirkland/opt/anaconda3/lib/python3.8/site-packages/sklearn/linear_model/_coordinate_descent.py:525: ConvergenceWarning: Objective did not converge. You might want to increase the number of iterations. Duality gap: 6203757186761728.0, tolerance: 414210185112783.5\n",
      "  model = cd_fast.enet_coordinate_descent_gram(\n",
      "/Users/tawneykirkland/opt/anaconda3/lib/python3.8/site-packages/sklearn/linear_model/_coordinate_descent.py:525: ConvergenceWarning: Objective did not converge. You might want to increase the number of iterations. Duality gap: 9294499170859520.0, tolerance: 414210185112783.5\n",
      "  model = cd_fast.enet_coordinate_descent_gram(\n",
      "/Users/tawneykirkland/opt/anaconda3/lib/python3.8/site-packages/sklearn/linear_model/_coordinate_descent.py:525: ConvergenceWarning: Objective did not converge. You might want to increase the number of iterations. Duality gap: 1.2820449058941952e+16, tolerance: 414210185112783.5\n",
      "  model = cd_fast.enet_coordinate_descent_gram(\n"
     ]
    },
    {
     "data": {
      "text/plain": [
       "0.48085547220549785"
      ]
     },
     "execution_count": 34,
     "metadata": {},
     "output_type": "execute_result"
    }
   ],
   "source": [
    "lcv = LassoCV()\n",
    "p = PolynomialFeatures(degree=2,interaction_only=True)\n",
    "x_train_poly = p.fit_transform(combo_train_df)\n",
    "s = StandardScaler(with_mean=False)\n",
    "x_train_poly_scaled = s.fit_transform(x_train_poly)\n",
    "lcv.fit(x_train_poly_scaled,y_train)\n",
    "\n",
    "print('R^2 for train with poly features (lasso):')\n",
    "lcv.score(x_train_poly_scaled,y_train)"
   ]
  },
  {
   "cell_type": "code",
   "execution_count": 35,
   "metadata": {},
   "outputs": [
    {
     "name": "stdout",
     "output_type": "stream",
     "text": [
      "R^2 for val with poly features (lasso):\n"
     ]
    },
    {
     "data": {
      "text/plain": [
       "0.23617893679295543"
      ]
     },
     "execution_count": 35,
     "metadata": {},
     "output_type": "execute_result"
    }
   ],
   "source": [
    "print('R^2 for val with poly features (lasso):')\n",
    "lcv.score(s.transform(p.transform(combo_val_df)),y_val)"
   ]
  },
  {
   "cell_type": "code",
   "execution_count": 36,
   "metadata": {
    "scrolled": true
   },
   "outputs": [
    {
     "name": "stdout",
     "output_type": "stream",
     "text": [
      "R^2 for test with poly features (lasso):\n"
     ]
    },
    {
     "data": {
      "text/plain": [
       "0.4176094136357055"
      ]
     },
     "execution_count": 36,
     "metadata": {},
     "output_type": "execute_result"
    }
   ],
   "source": [
    "print('R^2 for test with poly features (lasso):')\n",
    "lcv.score(s.transform(p.transform(combo_test_df)),y_test)"
   ]
  },
  {
   "cell_type": "markdown",
   "metadata": {},
   "source": [
    "Same issue as above. Reshuffle in main notebook."
   ]
  },
  {
   "cell_type": "code",
   "execution_count": 37,
   "metadata": {},
   "outputs": [
    {
     "name": "stdout",
     "output_type": "stream",
     "text": [
      "Lasso alpha:\n"
     ]
    },
    {
     "data": {
      "text/plain": [
       "5094531.172025066"
      ]
     },
     "execution_count": 37,
     "metadata": {},
     "output_type": "execute_result"
    }
   ],
   "source": [
    "print('Lasso alpha:')\n",
    "lcv.alpha_"
   ]
  },
  {
   "cell_type": "code",
   "execution_count": 38,
   "metadata": {},
   "outputs": [
    {
     "data": {
      "text/plain": [
       "[('1', 0.0),\n",
       " ('budget', 0.0),\n",
       " ('BUD2', 0.0),\n",
       " ('is_sequel', 0.0),\n",
       " ('top50_d', 0.0),\n",
       " ('year', -0.0),\n",
       " ('month', -0.0),\n",
       " ('dd_top5', 0.0),\n",
       " ('bankable_count', 0.0),\n",
       " ('runtime_minutes', 0.0),\n",
       " ('Action', 0.0),\n",
       " ('Adventure', 0.0),\n",
       " ('Animation', 0.0),\n",
       " ('Comedy', -0.0),\n",
       " ('Drama', -0.0),\n",
       " ('Horror', 0.0),\n",
       " ('R', 0.0),\n",
       " ('G', 0.0),\n",
       " ('PG', -0.0),\n",
       " ('budget BUD2', 0.0),\n",
       " ('budget is_sequel', 0.0),\n",
       " ('budget top50_d', 0.0),\n",
       " ('budget year', 0.0),\n",
       " ('budget month', 0.0),\n",
       " ('budget dd_top5', 0.0),\n",
       " ('budget bankable_count', 0.0),\n",
       " ('budget runtime_minutes', 0.0),\n",
       " ('budget Action', 0.0),\n",
       " ('budget Adventure', 0.0),\n",
       " ('budget Animation', 0.0),\n",
       " ('budget Comedy', -0.0),\n",
       " ('budget Drama', -0.0),\n",
       " ('budget Horror', 0.0),\n",
       " ('budget R', -0.0),\n",
       " ('budget G', 0.0),\n",
       " ('budget PG', -0.0),\n",
       " ('BUD2 is_sequel', 9654119.250980048),\n",
       " ('BUD2 top50_d', 0.0),\n",
       " ('BUD2 year', 0.0),\n",
       " ('BUD2 month', -0.0),\n",
       " ('BUD2 dd_top5', 0.0),\n",
       " ('BUD2 bankable_count', 0.0),\n",
       " ('BUD2 runtime_minutes', 0.0),\n",
       " ('BUD2 Action', 0.0),\n",
       " ('BUD2 Adventure', 1782767.431523019),\n",
       " ('BUD2 Animation', 0.0),\n",
       " ('BUD2 Comedy', 2049124.2622916005),\n",
       " ('BUD2 Drama', -926961.623661524),\n",
       " ('BUD2 Horror', 4960665.464055742),\n",
       " ('BUD2 R', -0.0),\n",
       " ('BUD2 G', 0.0),\n",
       " ('BUD2 PG', -0.0),\n",
       " ('is_sequel top50_d', 0.0),\n",
       " ('is_sequel year', 0.0),\n",
       " ('is_sequel month', 0.0),\n",
       " ('is_sequel dd_top5', 1025949.3650561913),\n",
       " ('is_sequel bankable_count', 0.0),\n",
       " ('is_sequel runtime_minutes', 7625081.850601676),\n",
       " ('is_sequel Action', 7031849.540235641),\n",
       " ('is_sequel Adventure', 998942.8498578952),\n",
       " ('is_sequel Animation', 0.0),\n",
       " ('is_sequel Comedy', 0.0),\n",
       " ('is_sequel Drama', -0.0),\n",
       " ('is_sequel Horror', 2654193.875116238),\n",
       " ('is_sequel R', 0.0),\n",
       " ('is_sequel G', 0.0),\n",
       " ('is_sequel PG', 0.0),\n",
       " ('top50_d year', -0.0),\n",
       " ('top50_d month', -0.0),\n",
       " ('top50_d dd_top5', 0.0),\n",
       " ('top50_d bankable_count', 8743045.462788308),\n",
       " ('top50_d runtime_minutes', 0.0),\n",
       " ('top50_d Action', 0.0),\n",
       " ('top50_d Adventure', 0.0),\n",
       " ('top50_d Animation', 0.0),\n",
       " ('top50_d Comedy', -0.0),\n",
       " ('top50_d Drama', -0.0),\n",
       " ('top50_d Horror', 0.0),\n",
       " ('top50_d R', 0.0),\n",
       " ('top50_d G', 0.0),\n",
       " ('top50_d PG', -0.0),\n",
       " ('year month', -0.0),\n",
       " ('year dd_top5', -0.0),\n",
       " ('year bankable_count', 0.0),\n",
       " ('year runtime_minutes', 144005.488938934),\n",
       " ('year Action', 0.0),\n",
       " ('year Adventure', -0.0),\n",
       " ('year Animation', -0.0),\n",
       " ('year Comedy', -0.0),\n",
       " ('year Drama', -0.0),\n",
       " ('year Horror', 5597784.5259970045),\n",
       " ('year R', -0.0),\n",
       " ('year G', 0.0),\n",
       " ('year PG', -0.0),\n",
       " ('month dd_top5', 0.0),\n",
       " ('month bankable_count', 0.0),\n",
       " ('month runtime_minutes', 0.0),\n",
       " ('month Action', -0.0),\n",
       " ('month Adventure', 0.0),\n",
       " ('month Animation', -0.0),\n",
       " ('month Comedy', 0.0),\n",
       " ('month Drama', -0.0),\n",
       " ('month Horror', 20605071.11436942),\n",
       " ('month R', -0.0),\n",
       " ('month G', -0.0),\n",
       " ('month PG', 0.0),\n",
       " ('dd_top5 bankable_count', 0.0),\n",
       " ('dd_top5 runtime_minutes', 0.0),\n",
       " ('dd_top5 Action', 0.0),\n",
       " ('dd_top5 Adventure', -0.0),\n",
       " ('dd_top5 Animation', 0.0),\n",
       " ('dd_top5 Comedy', -0.0),\n",
       " ('dd_top5 Drama', 0.0),\n",
       " ('dd_top5 Horror', 3293842.8339529983),\n",
       " ('dd_top5 R', -0.0),\n",
       " ('dd_top5 G', 0.0),\n",
       " ('dd_top5 PG', 0.0),\n",
       " ('bankable_count runtime_minutes', 0.0),\n",
       " ('bankable_count Action', 3354262.0755010475),\n",
       " ('bankable_count Adventure', 0.0),\n",
       " ('bankable_count Animation', 0.0),\n",
       " ('bankable_count Comedy', -0.0),\n",
       " ('bankable_count Drama', -0.0),\n",
       " ('bankable_count Horror', 7506573.526007708),\n",
       " ('bankable_count R', -0.0),\n",
       " ('bankable_count G', 0.0),\n",
       " ('bankable_count PG', -0.0),\n",
       " ('runtime_minutes Action', 0.0),\n",
       " ('runtime_minutes Adventure', 0.0),\n",
       " ('runtime_minutes Animation', 0.0),\n",
       " ('runtime_minutes Comedy', 0.0),\n",
       " ('runtime_minutes Drama', -0.0),\n",
       " ('runtime_minutes Horror', 13767750.484480182),\n",
       " ('runtime_minutes R', -0.0),\n",
       " ('runtime_minutes G', 0.0),\n",
       " ('runtime_minutes PG', -0.0),\n",
       " ('Action Adventure', 0.0),\n",
       " ('Action Animation', 0.0),\n",
       " ('Action Comedy', -0.0),\n",
       " ('Action Drama', -0.0),\n",
       " ('Action Horror', 360744.61729217536),\n",
       " ('Action R', -0.0),\n",
       " ('Action G', 0.0),\n",
       " ('Action PG', -0.0),\n",
       " ('Adventure Animation', 7336504.9941362),\n",
       " ('Adventure Comedy', -0.0),\n",
       " ('Adventure Drama', 0.0),\n",
       " ('Adventure Horror', 0.0),\n",
       " ('Adventure R', 0.0),\n",
       " ('Adventure G', -0.0),\n",
       " ('Adventure PG', -0.0),\n",
       " ('Animation Comedy', -0.0),\n",
       " ('Animation Drama', -0.0),\n",
       " ('Animation Horror', 0.0),\n",
       " ('Animation R', 0.0),\n",
       " ('Animation G', -0.0),\n",
       " ('Animation PG', 0.0),\n",
       " ('Comedy Drama', 0.0),\n",
       " ('Comedy Horror', 0.0),\n",
       " ('Comedy R', 0.0),\n",
       " ('Comedy G', -0.0),\n",
       " ('Comedy PG', -0.0),\n",
       " ('Drama Horror', -0.0),\n",
       " ('Drama R', -0.0),\n",
       " ('Drama G', -0.0),\n",
       " ('Drama PG', -0.0),\n",
       " ('Horror R', -0.0),\n",
       " ('Horror G', 480296.166394684),\n",
       " ('Horror PG', -1829304.3171526578),\n",
       " ('R G', 0.0),\n",
       " ('R PG', 0.0),\n",
       " ('G PG', 0.0)]"
      ]
     },
     "execution_count": 38,
     "metadata": {},
     "output_type": "execute_result"
    }
   ],
   "source": [
    "list(zip(p.get_feature_names(['budget','BUD2','is_sequel','top50_d','year','month',\n",
    "                              'dd_top5','bankable_count','runtime_minutes','Action',\n",
    "                              'Adventure','Animation','Comedy','Drama','Horror','R',\n",
    "                              'G','PG','PG-13']),lcv.coef_))"
   ]
  },
  {
   "cell_type": "markdown",
   "metadata": {},
   "source": [
    "Can begin removing the zeroed out ones\n",
    "\n",
    "Also remove the ones that do not make sense to ensure interpretability."
   ]
  },
  {
   "cell_type": "code",
   "execution_count": null,
   "metadata": {},
   "outputs": [],
   "source": []
  }
 ],
 "metadata": {
  "kernelspec": {
   "display_name": "Python 3",
   "language": "python",
   "name": "python3"
  },
  "language_info": {
   "codemirror_mode": {
    "name": "ipython",
    "version": 3
   },
   "file_extension": ".py",
   "mimetype": "text/x-python",
   "name": "python",
   "nbconvert_exporter": "python",
   "pygments_lexer": "ipython3",
   "version": "3.8.5"
  }
 },
 "nbformat": 4,
 "nbformat_minor": 4
}
