{
 "cells": [
  {
   "cell_type": "code",
   "execution_count": 1,
   "metadata": {},
   "outputs": [],
   "source": [
    "import pandas as pd\n",
    "import matplotlib.pyplot as plt\n",
    "import numpy as np\n",
    "from sklearn.model_selection import train_test_split\n",
    "from sklearn.linear_model import LinearRegression\n",
    "from sklearn.metrics import mean_squared_error\n",
    "from sklearn.preprocessing import StandardScaler, PolynomialFeatures, OneHotEncoder\n",
    "import seaborn as sns"
   ]
  },
  {
   "cell_type": "code",
   "execution_count": 2,
   "metadata": {},
   "outputs": [],
   "source": [
    "df = pd.read_csv('data/final_data_first.csv')"
   ]
  },
  {
   "cell_type": "code",
   "execution_count": 14,
   "metadata": {},
   "outputs": [],
   "source": [
    "x = df[['budget','dd_top5','Action',\n",
    "       'Adventure', 'Animation', 'Biography', 'Comedy', 'Crime', 'Drama',\n",
    "       'Fantasy', 'Family', 'Horror',\n",
    "       'Romance', 'Sci-Fi', 'Thriller','genre_top3']]\n",
    "\n",
    "y = df['domestic_opening_sales']\n",
    "\n",
    "x_train, x_test, y_train, y_test = train_test_split(x, y,test_size=.2, random_state=10)"
   ]
  },
  {
   "cell_type": "code",
   "execution_count": 15,
   "metadata": {},
   "outputs": [],
   "source": [
    "x_train, x_val, y_train, y_val = train_test_split(x_train, y_train, test_size=.2, random_state=3)"
   ]
  },
  {
   "cell_type": "code",
   "execution_count": 16,
   "metadata": {},
   "outputs": [
    {
     "data": {
      "text/plain": [
       "Text(0.5, 1.0, 'Budget versus domestic opening sales top movies from 2000 to 2020')"
      ]
     },
     "execution_count": 16,
     "metadata": {},
     "output_type": "execute_result"
    },
    {
     "data": {
      "image/png": "[encoded data removed]",
      "text/plain": [
       "<Figure size 432x288 with 1 Axes>"
      ]
     },
     "metadata": {
      "needs_background": "light"
     },
     "output_type": "display_data"
    }
   ],
   "source": [
    "#fig, ax = plt.subplots(figsize=(9, 7))\n",
    "\n",
    "budget_x = x_train['budget']\n",
    "sales_y = y_train\n",
    "\n",
    "plt.scatter(budget_x, sales_y)\n",
    "plt.xlabel('Budget')\n",
    "plt.ylabel('Opening sales')\n",
    "plt.title('Budget versus domestic opening sales top movies from 2000 to 2020')"
   ]
  },
  {
   "cell_type": "code",
   "execution_count": 6,
   "metadata": {},
   "outputs": [],
   "source": [
    "x_train_df = pd.DataFrame(x_train, index=x_train.index)\n",
    "x_val_df = pd.DataFrame(x_val, index=x_val.index)\n",
    "x_test_df = pd.DataFrame(x_val, index=x_test.index)"
   ]
  },
  {
   "cell_type": "code",
   "execution_count": 7,
   "metadata": {},
   "outputs": [],
   "source": [
    "scaler = StandardScaler()\n",
    "\n",
    "x_train_scaled = scaler.fit_transform(x_train.values)\n",
    "x_val_scaled = scaler.transform(x_val.values)\n",
    "x_test_scaled = scaler.transform(x_test.values)"
   ]
  },
  {
   "cell_type": "code",
   "execution_count": 8,
   "metadata": {},
   "outputs": [
    {
     "data": {
      "text/plain": [
       "24073887.934319597"
      ]
     },
     "execution_count": 8,
     "metadata": {},
     "output_type": "execute_result"
    }
   ],
   "source": [
    "lr = LinearRegression()\n",
    "\n",
    "lr.fit(x_train_scaled, y_train)\n",
    "\n",
    "lr.score(x_val_scaled, y_val) #R2\n",
    "\n",
    "y_pred = lr.predict(x_val_scaled)\n",
    "np.sqrt(mean_squared_error(y_val, y_pred))"
   ]
  },
  {
   "cell_type": "code",
   "execution_count": 73,
   "metadata": {},
   "outputs": [
    {
     "data": {
      "text/plain": [
       "0.2380698858937127"
      ]
     },
     "execution_count": 73,
     "metadata": {},
     "output_type": "execute_result"
    }
   ],
   "source": [
    "lr.score(x_val_scaled, y_val) #R2"
   ]
  },
  {
   "cell_type": "code",
   "execution_count": 74,
   "metadata": {},
   "outputs": [
    {
     "data": {
      "text/plain": [
       "49579492.72077922"
      ]
     },
     "execution_count": 74,
     "metadata": {},
     "output_type": "execute_result"
    }
   ],
   "source": [
    "lr.intercept_"
   ]
  },
  {
   "cell_type": "code",
   "execution_count": 75,
   "metadata": {},
   "outputs": [
    {
     "data": {
      "text/plain": [
       "[('Western', -4413943.003),\n",
       " ('Family', -4098896.954),\n",
       " ('Fantasy', -3103484.206),\n",
       " ('Musical', -2219287.227),\n",
       " ('History', -2175581.96),\n",
       " ('Thriller', -2008790.662),\n",
       " ('Biography', -2008268.194),\n",
       " ('genre_top10', -1068095.194),\n",
       " ('Action', -962235.288),\n",
       " ('Comedy', -653660.759),\n",
       " ('Animation', -394747.887),\n",
       " ('Sport', -384577.449),\n",
       " ('genre_top3', -264978.978),\n",
       " ('Mystery', -70595.064),\n",
       " ('dd_top5', 1585.899),\n",
       " ('Crime', 314748.83),\n",
       " ('Drama', 339614.253),\n",
       " ('Romance', 1420173.944),\n",
       " ('Horror', 3684782.517),\n",
       " ('Sci-Fi', 3937333.001),\n",
       " ('Adventure', 5075738.045),\n",
       " ('budget', 22664855.008)]"
      ]
     },
     "execution_count": 75,
     "metadata": {},
     "output_type": "execute_result"
    }
   ],
   "source": [
    "sorted(list(zip(x_test_df.columns, np.round(lr.coef_, 3))), key=lambda x: x[1])"
   ]
  },
  {
   "cell_type": "code",
   "execution_count": 10,
   "metadata": {},
   "outputs": [],
   "source": [
    "dd_top5_train_df = x_train[['dd_top5']]\n",
    "dd_top5_val_df = x_val[['dd_top5']]\n",
    "dd_top5_test_df = x_test[['dd_top5']]"
   ]
  },
  {
   "cell_type": "code",
   "execution_count": 11,
   "metadata": {},
   "outputs": [
    {
     "data": {
      "text/plain": [
       "26905514.337514788"
      ]
     },
     "execution_count": 11,
     "metadata": {},
     "output_type": "execute_result"
    }
   ],
   "source": [
    "dd_lr = LinearRegression()\n",
    "\n",
    "dd_lr.fit(dd_top5_train_df, y_train)\n",
    "\n",
    "dd_lr.score(dd_top5_val_df, y_val) #R2\n",
    "\n",
    "y_pred = dd_lr.predict(dd_top5_val_df)\n",
    "np.sqrt(mean_squared_error(y_val, y_pred))"
   ]
  },
  {
   "cell_type": "code",
   "execution_count": 12,
   "metadata": {},
   "outputs": [
    {
     "data": {
      "text/plain": [
       "0.005159445458270517"
      ]
     },
     "execution_count": 12,
     "metadata": {},
     "output_type": "execute_result"
    }
   ],
   "source": [
    "dd_lr.score(dd_top5_val_df, y_val) #R2"
   ]
  },
  {
   "cell_type": "code",
   "execution_count": 79,
   "metadata": {},
   "outputs": [
    {
     "data": {
      "text/plain": [
       "23546270.426062275"
      ]
     },
     "execution_count": 79,
     "metadata": {},
     "output_type": "execute_result"
    }
   ],
   "source": [
    "lr = LinearRegression()\n",
    "\n",
    "lr.fit(x_train_df, y_train)\n",
    "\n",
    "lr.score(x_val_df, y_val) #R2\n",
    "\n",
    "y_pred = lr.predict(x_val_df)\n",
    "np.sqrt(mean_squared_error(y_val, y_pred))"
   ]
  },
  {
   "cell_type": "code",
   "execution_count": 80,
   "metadata": {},
   "outputs": [
    {
     "data": {
      "text/plain": [
       "0.23806988589371303"
      ]
     },
     "execution_count": 80,
     "metadata": {},
     "output_type": "execute_result"
    }
   ],
   "source": [
    "lr.score(x_val_df, y_val) #R2"
   ]
  },
  {
   "cell_type": "code",
   "execution_count": 17,
   "metadata": {},
   "outputs": [],
   "source": [
    "genre_top3_train_df = x_train[['genre_top3']]\n",
    "genre_top3_val_df = x_val[['genre_top3']]\n",
    "genre_top3_test_df = x_test[['genre_top3']]"
   ]
  },
  {
   "cell_type": "code",
   "execution_count": 18,
   "metadata": {},
   "outputs": [
    {
     "data": {
      "text/plain": [
       "26028672.1793625"
      ]
     },
     "execution_count": 18,
     "metadata": {},
     "output_type": "execute_result"
    }
   ],
   "source": [
    "g3_lr = LinearRegression()\n",
    "\n",
    "g3_lr.fit(genre_top3_train_df, y_train)\n",
    "\n",
    "g3_lr.score(genre_top3_val_df, y_val) #R2\n",
    "\n",
    "y_pred = g3_lr.predict(genre_top3_val_df)\n",
    "np.sqrt(mean_squared_error(y_val, y_pred))"
   ]
  },
  {
   "cell_type": "code",
   "execution_count": 20,
   "metadata": {},
   "outputs": [
    {
     "data": {
      "text/plain": [
       "0.06894591262580008"
      ]
     },
     "execution_count": 20,
     "metadata": {},
     "output_type": "execute_result"
    }
   ],
   "source": [
    "g3_lr.score(genre_top3_val_df, y_val) #R2"
   ]
  },
  {
   "cell_type": "code",
   "execution_count": 92,
   "metadata": {},
   "outputs": [],
   "source": [
    "budget_top3_genre_train_df = x_train_df.loc[:,['budget','genre_top3']]\n",
    "budget_top3_genre_val_df = x_val_df.loc[:,['budget','genre_top3']]\n",
    "budget_top3_genre_test_df = x_test_df.loc[:,['budget','genre_top3']]"
   ]
  },
  {
   "cell_type": "code",
   "execution_count": 93,
   "metadata": {},
   "outputs": [
    {
     "data": {
      "text/plain": [
       "23839924.34188637"
      ]
     },
     "execution_count": 93,
     "metadata": {},
     "output_type": "execute_result"
    }
   ],
   "source": [
    "lr = LinearRegression()\n",
    "\n",
    "lr.fit(budget_top3_genre_train_df, y_train)\n",
    "\n",
    "lr.score(budget_top3_genre_val_df, y_val) #R2\n",
    "\n",
    "y_pred = lr.predict(budget_top3_genre_val_df)\n",
    "np.sqrt(mean_squared_error(y_val, y_pred))"
   ]
  },
  {
   "cell_type": "code",
   "execution_count": 94,
   "metadata": {},
   "outputs": [
    {
     "data": {
      "text/plain": [
       "0.2189467762423578"
      ]
     },
     "execution_count": 94,
     "metadata": {},
     "output_type": "execute_result"
    }
   ],
   "source": [
    "lr.score(budget_top3_genre_val_df, y_val)"
   ]
  },
  {
   "cell_type": "code",
   "execution_count": null,
   "metadata": {},
   "outputs": [],
   "source": []
  }
 ],
 "metadata": {
  "kernelspec": {
   "display_name": "Python 3",
   "language": "python",
   "name": "python3"
  },
  "language_info": {
   "codemirror_mode": {
    "name": "ipython",
    "version": 3
   },
   "file_extension": ".py",
   "mimetype": "text/x-python",
   "name": "python",
   "nbconvert_exporter": "python",
   "pygments_lexer": "ipython3",
   "version": "3.8.5"
  }
 },
 "nbformat": 4,
 "nbformat_minor": 4
}
