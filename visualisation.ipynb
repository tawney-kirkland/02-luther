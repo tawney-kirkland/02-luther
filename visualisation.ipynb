{
 "cells": [
  {
   "cell_type": "code",
   "execution_count": 88,
   "metadata": {},
   "outputs": [],
   "source": [
    "import pandas as pd\n",
    "import numpy as np\n",
    "from datetime import datetime\n",
    "import matplotlib.pyplot as plt"
   ]
  },
  {
   "cell_type": "code",
   "execution_count": 89,
   "metadata": {},
   "outputs": [],
   "source": [
    "df = pd.read_csv('data/master_data_with_sequel_director.csv',\n",
    "                usecols= ['movie_title','budget','domestic_opening_sales',\n",
    "                          'domestic_dist_processed','rating','release_date',\n",
    "                         'is_sequel','Action','Adventure','Animation','Biography',\n",
    "                          'Comedy','Crime','Drama','Fantasy','Family','History','Horror',\n",
    "                          'Musical','Mystery','Romance','Sci-Fi','Sport','Thriller','Western'])"
   ]
  },
  {
   "cell_type": "code",
   "execution_count": 90,
   "metadata": {},
   "outputs": [],
   "source": [
    "df['year'] = pd.DatetimeIndex(df['release_date']).year"
   ]
  },
  {
   "cell_type": "code",
   "execution_count": 91,
   "metadata": {},
   "outputs": [
    {
     "name": "stdout",
     "output_type": "stream",
     "text": [
      "<class 'pandas.core.frame.DataFrame'>\n",
      "RangeIndex: 723 entries, 0 to 722\n",
      "Data columns (total 26 columns):\n",
      " #   Column                   Non-Null Count  Dtype \n",
      "---  ------                   --------------  ----- \n",
      " 0   movie_title              723 non-null    object\n",
      " 1   budget                   723 non-null    int64 \n",
      " 2   domestic_opening_sales   723 non-null    int64 \n",
      " 3   rating                   723 non-null    object\n",
      " 4   Action                   723 non-null    int64 \n",
      " 5   Adventure                723 non-null    int64 \n",
      " 6   Animation                723 non-null    int64 \n",
      " 7   Biography                723 non-null    int64 \n",
      " 8   Comedy                   723 non-null    int64 \n",
      " 9   Crime                    723 non-null    int64 \n",
      " 10  Drama                    723 non-null    int64 \n",
      " 11  Fantasy                  723 non-null    int64 \n",
      " 12  Family                   723 non-null    int64 \n",
      " 13  History                  723 non-null    int64 \n",
      " 14  Horror                   723 non-null    int64 \n",
      " 15  Musical                  723 non-null    int64 \n",
      " 16  Mystery                  723 non-null    int64 \n",
      " 17  Romance                  723 non-null    int64 \n",
      " 18  Sci-Fi                   723 non-null    int64 \n",
      " 19  Sport                    723 non-null    int64 \n",
      " 20  Thriller                 723 non-null    int64 \n",
      " 21  Western                  723 non-null    int64 \n",
      " 22  domestic_dist_processed  723 non-null    object\n",
      " 23  release_date             723 non-null    object\n",
      " 24  is_sequel                723 non-null    int64 \n",
      " 25  year                     723 non-null    int64 \n",
      "dtypes: int64(22), object(4)\n",
      "memory usage: 147.0+ KB\n"
     ]
    }
   ],
   "source": [
    "df.info()"
   ]
  },
  {
   "cell_type": "code",
   "execution_count": 92,
   "metadata": {},
   "outputs": [],
   "source": [
    "years = list(range(2000,2021,1))"
   ]
  },
  {
   "cell_type": "code",
   "execution_count": 126,
   "metadata": {
    "scrolled": true
   },
   "outputs": [
    {
     "data": {
      "image/png": "[encoded data removed]",
      "text/plain": [
       "<Figure size 864x288 with 1 Axes>"
      ]
     },
     "metadata": {
      "needs_background": "light"
     },
     "output_type": "display_data"
    }
   ],
   "source": [
    "movies_year = df.groupby('year')['movie_title'].count().reindex(years)\n",
    "movies_year_list = list(movies_year)\n",
    "\n",
    "plt.figure(figsize=[12,4])\n",
    "plt.gca().spines['top'].set_visible(False)\n",
    "plt.gca().spines['right'].set_visible(False)\n",
    "plt.bar(years,movies_year)   \n",
    "plt.xticks(years,rotation=60)\n",
    "plt.title('An average of 35 movies make the Top Box Office charts per year',family='arial',fontsize=16)\n",
    "plt.tight_layout()\n",
    "\n",
    "plt.savefig(\"movies_per_year.svg\")\n",
    "\n",
    "plt.show;\n",
    "\n",
    "\n"
   ]
  },
  {
   "cell_type": "code",
   "execution_count": 129,
   "metadata": {},
   "outputs": [
    {
     "data": {
      "text/plain": [
       "year\n",
       "2000    27\n",
       "2001    27\n",
       "2002    33\n",
       "2003    38\n",
       "2004    32\n",
       "2005    26\n",
       "2006    29\n",
       "2007    36\n",
       "2008    40\n",
       "2009    39\n",
       "2010    41\n",
       "2011    39\n",
       "2012    39\n",
       "2013    42\n",
       "2014    44\n",
       "2015    40\n",
       "2016    37\n",
       "2017    38\n",
       "2018    39\n",
       "2019    34\n",
       "2020     3\n",
       "Name: movie_title, dtype: int64"
      ]
     },
     "execution_count": 129,
     "metadata": {},
     "output_type": "execute_result"
    }
   ],
   "source": [
    "movies_year"
   ]
  },
  {
   "cell_type": "code",
   "execution_count": 94,
   "metadata": {},
   "outputs": [],
   "source": [
    "budget_mean = df['budget'].mean()"
   ]
  },
  {
   "cell_type": "code",
   "execution_count": 127,
   "metadata": {},
   "outputs": [
    {
     "data": {
      "image/png": "[encoded data removed]",
      "text/plain": [
       "<Figure size 864x288 with 1 Axes>"
      ]
     },
     "metadata": {
      "needs_background": "light"
     },
     "output_type": "display_data"
    }
   ],
   "source": [
    "plt.figure(figsize=[12,4])\n",
    "plt.gca().spines['top'].set_visible(False)\n",
    "plt.gca().spines['right'].set_visible(False)\n",
    "plt.hist(df['budget']/1000000)\n",
    "plt.title('The distribution of movie budgets is right-skewed, with approximately 75% of movies having a budget below $150 mn',family='arial',fontsize=14)\n",
    "plt.tight_layout()\n",
    "plt.xlabel('Budget (USD million)')\n",
    "plt.ylabel('Number of movies')\n",
    "\n",
    "plt.tight_layout()\n",
    "plt.show;\n",
    "plt.savefig(\"movie_budget_distribution.svg\")"
   ]
  },
  {
   "cell_type": "code",
   "execution_count": null,
   "metadata": {},
   "outputs": [],
   "source": []
  }
 ],
 "metadata": {
  "kernelspec": {
   "display_name": "Python 3",
   "language": "python",
   "name": "python3"
  },
  "language_info": {
   "codemirror_mode": {
    "name": "ipython",
    "version": 3
   },
   "file_extension": ".py",
   "mimetype": "text/x-python",
   "name": "python",
   "nbconvert_exporter": "python",
   "pygments_lexer": "ipython3",
   "version": "3.8.5"
  }
 },
 "nbformat": 4,
 "nbformat_minor": 4
}
