{
 "cells": [
  {
   "cell_type": "code",
   "execution_count": 1,
   "metadata": {},
   "outputs": [],
   "source": [
    "import pandas as pd\n",
    "import numpy as np\n",
    "from datetime import datetime\n",
    "import matplotlib.pyplot as plt"
   ]
  },
  {
   "cell_type": "code",
   "execution_count": 2,
   "metadata": {},
   "outputs": [],
   "source": [
    "df = pd.read_csv('data/master_data_with_sequel_director.csv',\n",
    "                usecols= ['movie_title','budget','domestic_opening_sales',\n",
    "                          'domestic_dist_processed','rating','release_date',\n",
    "                         'is_sequel','Action','Adventure','Animation','Biography',\n",
    "                          'Comedy','Crime','Drama','Fantasy','Family','History','Horror',\n",
    "                          'Musical','Mystery','Romance','Sci-Fi','Sport','Thriller','Western'])"
   ]
  },
  {
   "cell_type": "code",
   "execution_count": 3,
   "metadata": {},
   "outputs": [],
   "source": [
    "df['year'] = pd.DatetimeIndex(df['release_date']).year"
   ]
  },
  {
   "cell_type": "code",
   "execution_count": 4,
   "metadata": {},
   "outputs": [
    {
     "name": "stdout",
     "output_type": "stream",
     "text": [
      "<class 'pandas.core.frame.DataFrame'>\n",
      "RangeIndex: 723 entries, 0 to 722\n",
      "Data columns (total 26 columns):\n",
      " #   Column                   Non-Null Count  Dtype \n",
      "---  ------                   --------------  ----- \n",
      " 0   movie_title              723 non-null    object\n",
      " 1   budget                   723 non-null    int64 \n",
      " 2   domestic_opening_sales   723 non-null    int64 \n",
      " 3   rating                   723 non-null    object\n",
      " 4   Action                   723 non-null    int64 \n",
      " 5   Adventure                723 non-null    int64 \n",
      " 6   Animation                723 non-null    int64 \n",
      " 7   Biography                723 non-null    int64 \n",
      " 8   Comedy                   723 non-null    int64 \n",
      " 9   Crime                    723 non-null    int64 \n",
      " 10  Drama                    723 non-null    int64 \n",
      " 11  Fantasy                  723 non-null    int64 \n",
      " 12  Family                   723 non-null    int64 \n",
      " 13  History                  723 non-null    int64 \n",
      " 14  Horror                   723 non-null    int64 \n",
      " 15  Musical                  723 non-null    int64 \n",
      " 16  Mystery                  723 non-null    int64 \n",
      " 17  Romance                  723 non-null    int64 \n",
      " 18  Sci-Fi                   723 non-null    int64 \n",
      " 19  Sport                    723 non-null    int64 \n",
      " 20  Thriller                 723 non-null    int64 \n",
      " 21  Western                  723 non-null    int64 \n",
      " 22  domestic_dist_processed  723 non-null    object\n",
      " 23  release_date             723 non-null    object\n",
      " 24  is_sequel                723 non-null    int64 \n",
      " 25  year                     723 non-null    int64 \n",
      "dtypes: int64(22), object(4)\n",
      "memory usage: 147.0+ KB\n"
     ]
    }
   ],
   "source": [
    "df.info()"
   ]
  },
  {
   "cell_type": "code",
   "execution_count": 5,
   "metadata": {},
   "outputs": [],
   "source": [
    "years = list(range(2000,2021,1))"
   ]
  },
  {
   "cell_type": "code",
   "execution_count": 6,
   "metadata": {
    "scrolled": true
   },
   "outputs": [
    {
     "data": {
      "image/png": "[encoded data removed]",
      "text/plain": [
       "<Figure size 864x288 with 1 Axes>"
      ]
     },
     "metadata": {
      "needs_background": "light"
     },
     "output_type": "display_data"
    }
   ],
   "source": [
    "movies_year = df.groupby('year')['movie_title'].count().reindex(years)\n",
    "movies_year_list = list(movies_year)\n",
    "\n",
    "plt.figure(figsize=[12,4])\n",
    "plt.gca().spines['top'].set_visible(False)\n",
    "plt.gca().spines['right'].set_visible(False)\n",
    "plt.bar(years,movies_year)   \n",
    "plt.xticks(years,rotation=60)\n",
    "plt.title('An average of 35 movies make the Top Box Office charts per year',family='arial',fontsize=16)\n",
    "plt.tight_layout()\n",
    "\n",
    "#plt.savefig(\"movies_per_year.svg\")\n",
    "\n",
    "plt.show;\n",
    "\n",
    "\n"
   ]
  },
  {
   "cell_type": "code",
   "execution_count": 7,
   "metadata": {},
   "outputs": [
    {
     "data": {
      "text/plain": [
       "year\n",
       "2000    27\n",
       "2001    27\n",
       "2002    33\n",
       "2003    38\n",
       "2004    32\n",
       "2005    26\n",
       "2006    29\n",
       "2007    36\n",
       "2008    40\n",
       "2009    39\n",
       "2010    41\n",
       "2011    39\n",
       "2012    39\n",
       "2013    42\n",
       "2014    44\n",
       "2015    40\n",
       "2016    37\n",
       "2017    38\n",
       "2018    39\n",
       "2019    34\n",
       "2020     3\n",
       "Name: movie_title, dtype: int64"
      ]
     },
     "execution_count": 7,
     "metadata": {},
     "output_type": "execute_result"
    }
   ],
   "source": [
    "movies_year"
   ]
  },
  {
   "cell_type": "code",
   "execution_count": 8,
   "metadata": {},
   "outputs": [],
   "source": [
    "budget_mean = df['budget'].mean()"
   ]
  },
  {
   "cell_type": "code",
   "execution_count": 14,
   "metadata": {},
   "outputs": [
    {
     "data": {
      "image/png": "[encoded data removed]",
      "text/plain": [
       "<Figure size 864x288 with 1 Axes>"
      ]
     },
     "metadata": {
      "needs_background": "light"
     },
     "output_type": "display_data"
    }
   ],
   "source": [
    "plt.figure(figsize=[12,4])\n",
    "plt.gca().spines['top'].set_visible(False)\n",
    "plt.gca().spines['right'].set_visible(False)\n",
    "plt.hist(df['budget']/1000000,bins=30)\n",
    "plt.title('The distribution of movie budgets is right-skewed, with approximately 75% of movies having a budget below $150 mn',family='arial',fontsize=14)\n",
    "plt.tight_layout()\n",
    "plt.xlabel('Budget (USD million)')\n",
    "plt.ylabel('Number of movies')\n",
    "\n",
    "plt.tight_layout()\n",
    "plt.show;\n",
    "#plt.savefig(\"movie_budget_distribution.svg\")"
   ]
  },
  {
   "cell_type": "code",
   "execution_count": 10,
   "metadata": {},
   "outputs": [],
   "source": [
    "df1= pd.read_csv('data/total_boxoffice_tickets.csv')"
   ]
  },
  {
   "cell_type": "markdown",
   "metadata": {},
   "source": [
    "# "
   ]
  },
  {
   "cell_type": "code",
   "execution_count": 11,
   "metadata": {},
   "outputs": [
    {
     "data": {
      "text/html": [
       "<div>\n",
       "<style scoped>\n",
       "    .dataframe tbody tr th:only-of-type {\n",
       "        vertical-align: middle;\n",
       "    }\n",
       "\n",
       "    .dataframe tbody tr th {\n",
       "        vertical-align: top;\n",
       "    }\n",
       "\n",
       "    .dataframe thead th {\n",
       "        text-align: right;\n",
       "    }\n",
       "</style>\n",
       "<table border=\"1\" class=\"dataframe\">\n",
       "  <thead>\n",
       "    <tr style=\"text-align: right;\">\n",
       "      <th></th>\n",
       "      <th>year</th>\n",
       "      <th>tickets_sold_mn</th>\n",
       "      <th>total_boxoffice_revenue_bn</th>\n",
       "    </tr>\n",
       "  </thead>\n",
       "  <tbody>\n",
       "    <tr>\n",
       "      <th>0</th>\n",
       "      <td>2001</td>\n",
       "      <td>1487.3</td>\n",
       "      <td>8.41</td>\n",
       "    </tr>\n",
       "    <tr>\n",
       "      <th>1</th>\n",
       "      <td>2002</td>\n",
       "      <td>1575.7</td>\n",
       "      <td>9.16</td>\n",
       "    </tr>\n",
       "    <tr>\n",
       "      <th>2</th>\n",
       "      <td>2003</td>\n",
       "      <td>1523.3</td>\n",
       "      <td>9.24</td>\n",
       "    </tr>\n",
       "    <tr>\n",
       "      <th>3</th>\n",
       "      <td>2004</td>\n",
       "      <td>1510.5</td>\n",
       "      <td>9.38</td>\n",
       "    </tr>\n",
       "    <tr>\n",
       "      <th>4</th>\n",
       "      <td>2005</td>\n",
       "      <td>1379.2</td>\n",
       "      <td>8.84</td>\n",
       "    </tr>\n",
       "    <tr>\n",
       "      <th>5</th>\n",
       "      <td>2006</td>\n",
       "      <td>1406.0</td>\n",
       "      <td>9.21</td>\n",
       "    </tr>\n",
       "    <tr>\n",
       "      <th>6</th>\n",
       "      <td>2007</td>\n",
       "      <td>1404.6</td>\n",
       "      <td>9.66</td>\n",
       "    </tr>\n",
       "    <tr>\n",
       "      <th>7</th>\n",
       "      <td>2008</td>\n",
       "      <td>1341.3</td>\n",
       "      <td>9.63</td>\n",
       "    </tr>\n",
       "    <tr>\n",
       "      <th>8</th>\n",
       "      <td>2009</td>\n",
       "      <td>1412.7</td>\n",
       "      <td>10.60</td>\n",
       "    </tr>\n",
       "    <tr>\n",
       "      <th>9</th>\n",
       "      <td>2010</td>\n",
       "      <td>1339.1</td>\n",
       "      <td>10.57</td>\n",
       "    </tr>\n",
       "    <tr>\n",
       "      <th>10</th>\n",
       "      <td>2011</td>\n",
       "      <td>1283.0</td>\n",
       "      <td>10.17</td>\n",
       "    </tr>\n",
       "    <tr>\n",
       "      <th>11</th>\n",
       "      <td>2012</td>\n",
       "      <td>1361.5</td>\n",
       "      <td>10.84</td>\n",
       "    </tr>\n",
       "    <tr>\n",
       "      <th>12</th>\n",
       "      <td>2013</td>\n",
       "      <td>1343.7</td>\n",
       "      <td>10.92</td>\n",
       "    </tr>\n",
       "    <tr>\n",
       "      <th>13</th>\n",
       "      <td>2014</td>\n",
       "      <td>1268.2</td>\n",
       "      <td>10.36</td>\n",
       "    </tr>\n",
       "    <tr>\n",
       "      <th>14</th>\n",
       "      <td>2015</td>\n",
       "      <td>1320.2</td>\n",
       "      <td>11.13</td>\n",
       "    </tr>\n",
       "    <tr>\n",
       "      <th>15</th>\n",
       "      <td>2016</td>\n",
       "      <td>1315.3</td>\n",
       "      <td>11.38</td>\n",
       "    </tr>\n",
       "    <tr>\n",
       "      <th>16</th>\n",
       "      <td>2017</td>\n",
       "      <td>1239.7</td>\n",
       "      <td>11.07</td>\n",
       "    </tr>\n",
       "    <tr>\n",
       "      <th>17</th>\n",
       "      <td>2018</td>\n",
       "      <td>1300.4</td>\n",
       "      <td>11.32</td>\n",
       "    </tr>\n",
       "  </tbody>\n",
       "</table>\n",
       "</div>"
      ],
      "text/plain": [
       "    year  tickets_sold_mn  total_boxoffice_revenue_bn\n",
       "0   2001           1487.3                        8.41\n",
       "1   2002           1575.7                        9.16\n",
       "2   2003           1523.3                        9.24\n",
       "3   2004           1510.5                        9.38\n",
       "4   2005           1379.2                        8.84\n",
       "5   2006           1406.0                        9.21\n",
       "6   2007           1404.6                        9.66\n",
       "7   2008           1341.3                        9.63\n",
       "8   2009           1412.7                       10.60\n",
       "9   2010           1339.1                       10.57\n",
       "10  2011           1283.0                       10.17\n",
       "11  2012           1361.5                       10.84\n",
       "12  2013           1343.7                       10.92\n",
       "13  2014           1268.2                       10.36\n",
       "14  2015           1320.2                       11.13\n",
       "15  2016           1315.3                       11.38\n",
       "16  2017           1239.7                       11.07\n",
       "17  2018           1300.4                       11.32"
      ]
     },
     "execution_count": 11,
     "metadata": {},
     "output_type": "execute_result"
    }
   ],
   "source": [
    "df1"
   ]
  },
  {
   "cell_type": "code",
   "execution_count": 12,
   "metadata": {},
   "outputs": [],
   "source": [
    "# Do time series for tickets sold and revenue"
   ]
  },
  {
   "cell_type": "code",
   "execution_count": null,
   "metadata": {},
   "outputs": [],
   "source": []
  }
 ],
 "metadata": {
  "kernelspec": {
   "display_name": "Python 3",
   "language": "python",
   "name": "python3"
  },
  "language_info": {
   "codemirror_mode": {
    "name": "ipython",
    "version": 3
   },
   "file_extension": ".py",
   "mimetype": "text/x-python",
   "name": "python",
   "nbconvert_exporter": "python",
   "pygments_lexer": "ipython3",
   "version": "3.8.5"
  }
 },
 "nbformat": 4,
 "nbformat_minor": 4
}
